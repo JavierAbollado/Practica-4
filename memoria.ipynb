{
 "cells": [
  {
   "cell_type": "markdown",
   "id": "08d6c493-3aac-4bb2-a80d-75687a228f54",
   "metadata": {},
   "source": [
    "MEMORIA PRÁCTICA 4. PYSPARK.\n",
    "\n",
    "Analizaremos los datos de BICIMad del año 2017. Nos centraremos en crear filtros por tipos de usuario y fechas con el objetivo de hacer un análisis del uso de  las bicicletas en tiempo y frecuencia. Nos interesa conocer cuál es el tipo de usuario más común y cuanto tiempo hace uso de este servicio.\n",
    "\n",
    "Para poder mover los programas en nuestros equipos personales cogeremos una muestra aleatoria de los archivos json (disponibles en https://opendata.emtmadrid.es/Datos-estaticos/Datos-generales-(1)) utilizando el script de Russell Jurney (https://gist.github.com/rjurney/5e926262041dc1475f0dd8b2743d6ad5) añadiendo solo el tipo de codificación \"ISO-8859-1\" (línea 7 de sample_json) y austando el ratio de selección."
   ]
  },
  {
   "cell_type": "code",
   "execution_count": null,
   "id": "88438b42-7afe-4f6e-a74c-744a2b37c67a",
   "metadata": {},
   "outputs": [],
   "source": []
  },
  {
   "cell_type": "code",
   "execution_count": 1,
   "id": "f15b3ee5-3204-44ab-914d-22360677916b",
   "metadata": {},
   "outputs": [
    {
     "name": "stderr",
     "output_type": "stream",
     "text": [
      "22/05/10 20:53:44 WARN Utils: Your hostname, Equipo resolves to a loopback address: 127.0.1.1; using 192.168.1.20 instead (on interface wlo1)\n",
      "22/05/10 20:53:44 WARN Utils: Set SPARK_LOCAL_IP if you need to bind to another address\n",
      "WARNING: An illegal reflective access operation has occurred\n",
      "WARNING: Illegal reflective access by org.apache.spark.unsafe.Platform (file:/home/daniel/.local/lib/python3.8/site-packages/pyspark/jars/spark-unsafe_2.12-3.2.1.jar) to constructor java.nio.DirectByteBuffer(long,int)\n",
      "WARNING: Please consider reporting this to the maintainers of org.apache.spark.unsafe.Platform\n",
      "WARNING: Use --illegal-access=warn to enable warnings of further illegal reflective access operations\n",
      "WARNING: All illegal access operations will be denied in a future release\n",
      "Using Spark's default log4j profile: org/apache/spark/log4j-defaults.properties\n",
      "Setting default log level to \"WARN\".\n",
      "To adjust logging level use sc.setLogLevel(newLevel). For SparkR, use setLogLevel(newLevel).\n",
      "22/05/10 20:53:45 WARN NativeCodeLoader: Unable to load native-hadoop library for your platform... using builtin-java classes where applicable\n",
      "22/05/10 20:53:46 WARN Utils: Service 'SparkUI' could not bind on port 4040. Attempting port 4041.\n",
      "22/05/10 20:53:46 WARN Utils: Service 'SparkUI' could not bind on port 4041. Attempting port 4042.\n"
     ]
    }
   ],
   "source": [
    "from pyspark import SparkContext\n",
    "sc = SparkContext()"
   ]
  },
  {
   "cell_type": "code",
   "execution_count": 2,
   "id": "89f2fd56-3686-4f30-aac4-966ca8c02c12",
   "metadata": {},
   "outputs": [],
   "source": [
    "import json\n",
    "import datetime"
   ]
  },
  {
   "cell_type": "markdown",
   "id": "cb2c60af-f4a1-4c53-abdb-4676a8cca083",
   "metadata": {},
   "source": [
    "Filtramos primeramente la mayor parte de los datos. Nos interesan el tipo de usuario, mes, hora del trayecto y tiempo del trayecto."
   ]
  },
  {
   "cell_type": "code",
   "execution_count": 3,
   "id": "d405c532-4de7-49eb-b89b-1d372e9bdb4e",
   "metadata": {},
   "outputs": [],
   "source": [
    "def mapper(line):\n",
    "    data = json.loads(line)\n",
    "    usert = data['user_type']\n",
    "    time = data['travel_time']\n",
    "    date = convert_date(data['unplug_hourTime'])\n",
    "    return usert, time, date"
   ]
  },
  {
   "cell_type": "code",
   "execution_count": 4,
   "id": "55436c9f-0d34-48ce-bb07-6912f2a13feb",
   "metadata": {},
   "outputs": [],
   "source": [
    "def convert_date(date):\n",
    "    if isinstance(date, str):\n",
    "        date = date.replace(\"Z\",\"+0000\")\n",
    "        date = datetime.datetime.strptime(date, \"%Y-%m-%dT%H:%M:%S%z\")\n",
    "    else:\n",
    "        date = date['$date']\n",
    "        date = datetime.datetime.strptime(date, \"%Y-%m-%dT%H:%M:%S.%f%z\")\n",
    "    return (date.month,date.hour)"
   ]
  },
  {
   "cell_type": "code",
   "execution_count": 5,
   "id": "932ff24c-b38b-49a2-aab2-18750ce768a3",
   "metadata": {},
   "outputs": [
    {
     "data": {
      "text/plain": [
       "(6, 12)"
      ]
     },
     "execution_count": 5,
     "metadata": {},
     "output_type": "execute_result"
    }
   ],
   "source": [
    "convert_date({ \"$date\" : \"2019-06-01T12:40:00.000+0200\" })"
   ]
  },
  {
   "cell_type": "code",
   "execution_count": 9,
   "id": "d240cbdc-2d7e-4e4a-a3de-ca1edfcca7e9",
   "metadata": {},
   "outputs": [],
   "source": [
    "rdd_base = sc.textFile('sampleoct.json,samplejun.json')"
   ]
  },
  {
   "cell_type": "code",
   "execution_count": 10,
   "id": "5ac00133-c4df-4de2-80a2-b8ea6ff0aff2",
   "metadata": {},
   "outputs": [],
   "source": [
    "rdd = rdd_base.map(mapper)"
   ]
  },
  {
   "cell_type": "code",
   "execution_count": 11,
   "id": "39286ed8-41a7-4044-a40d-4edbd00b8a69",
   "metadata": {},
   "outputs": [
    {
     "name": "stderr",
     "output_type": "stream",
     "text": [
      "                                                                                \r"
     ]
    },
    {
     "name": "stdout",
     "output_type": "stream",
     "text": [
      "Viajes totales: 3960\n"
     ]
    }
   ],
   "source": [
    "rdd.countByKey()\n",
    "n0 = rdd.count()\n",
    "print(\"Viajes totales:\", n0)\n",
    "#0: no ha sido posible determinarlo, 1: pase anual, 2: ocasional, 3: empresa"
   ]
  },
  {
   "cell_type": "markdown",
   "id": "9ba28fb6-9ea3-46d4-b5b1-7d316e51783b",
   "metadata": {},
   "source": [
    "Filtramos aun más los datos para hacer un estudio por tipo de usuario."
   ]
  },
  {
   "cell_type": "code",
   "execution_count": 32,
   "id": "a657a6a1-7946-491f-9649-ebb7d076ad32",
   "metadata": {},
   "outputs": [],
   "source": [
    "def filter_user(rdd, user_type):\n",
    "    return rdd.filter(lambda x: x[0]==user_type).map(lambda x: ((x[2][0],x[2][1]),x[1]))\n",
    "                                                            #(mes, hora 24h), tiempo seg.\n",
    "def filter_month(rdd, month):#Aplicar siempre después de filter_user\n",
    "    return rdd.filter(lambda x: x[0][0]==month).map(lambda x: (x[0][1],x[1]))\n",
    "\n",
    "def filter_month_and_user(rdd, user, month):#aplicar sobre el rdd base\n",
    "    return rdd.filter(lambda x: (x[0]==user and x[2][0]==month)).map(lambda x: ((x[2][0],x[2][1]),x[1]))"
   ]
  },
  {
   "cell_type": "code",
   "execution_count": 33,
   "id": "23fd3d72-e1b0-4cc0-8b3e-90e4447349c7",
   "metadata": {},
   "outputs": [
    {
     "data": {
      "text/plain": [
       "[((10, 17), 2409)]"
      ]
     },
     "execution_count": 33,
     "metadata": {},
     "output_type": "execute_result"
    }
   ],
   "source": [
    "rdd_test_month_type = filter_month_and_user(rdd, 2, 10)\n",
    "rdd_test_month_type.take(1)"
   ]
  },
  {
   "cell_type": "markdown",
   "id": "59eddab8-a501-4c01-a46f-6dd5b563034d",
   "metadata": {},
   "source": [
    "Podemos compara ahora las diferencias entre los tipos de usuario. El número total de viajes, el tiempo total de uso, la media de uso, la frecuencia de uso por tipo de usuario, etc."
   ]
  },
  {
   "cell_type": "code",
   "execution_count": 16,
   "id": "c3d095cd-6ba9-4ee1-9f63-6ec867536d10",
   "metadata": {},
   "outputs": [
    {
     "name": "stdout",
     "output_type": "stream",
     "text": [
      "Total de viajes con pase anual: 3379\n",
      "Total de viajes de usuarios ocasionales: 15\n",
      "Total de viajes de usuarios de empresa: 268\n"
     ]
    }
   ],
   "source": [
    "rdd_user1 = filter_user(rdd, 1)\n",
    "n1 = rdd_user1.count()\n",
    "print(\"Total de viajes con pase anual:\", n1)\n",
    "rdd_user2 = filter_user(rdd, 2)\n",
    "n2 = rdd_user2.count()\n",
    "print(\"Total de viajes de usuarios ocasionales:\", n2)\n",
    "rdd_user3 = filter_user(rdd, 3)\n",
    "n3 = rdd_user3.count()\n",
    "print(\"Total de viajes de usuarios de empresa:\", n3)"
   ]
  },
  {
   "cell_type": "code",
   "execution_count": 34,
   "id": "0a247384-afc9-4fa3-a342-95f320a7e354",
   "metadata": {},
   "outputs": [
    {
     "data": {
      "text/plain": [
       "([<matplotlib.patches.Wedge at 0x7fbb85acb430>,\n",
       "  <matplotlib.patches.Wedge at 0x7fbb85acbb50>,\n",
       "  <matplotlib.patches.Wedge at 0x7fbb85ad82b0>,\n",
       "  <matplotlib.patches.Wedge at 0x7fbb85ad89d0>],\n",
       " [Text(1.0694028561487479, 0.25763837303651155, 'Sin determinar'),\n",
       "  Text(-1.09992211654468, -0.013089596474741292, 'Habitual'),\n",
       "  Text(0.9965693932953751, -0.4656709614597932, 'Ocasional'),\n",
       "  Text(1.075231168661784, -0.23211620783179868, 'Empresa')],\n",
       " [Text(0.5833106488084079, 0.140530021656279, '7.5%'),\n",
       "  Text(-0.5999575181152799, -0.007139779895313431, '85.3%'),\n",
       "  Text(0.5435833054338409, -0.2540023426144326, '0.4%'),\n",
       "  Text(0.5864897283609729, -0.12660884063552652, '6.8%')])"
      ]
     },
     "execution_count": 34,
     "metadata": {},
     "output_type": "execute_result"
    },
    {
     "data": {
      "image/png": "[encoded data removed]",
      "text/plain": [
       "<Figure size 432x288 with 1 Axes>"
      ]
     },
     "metadata": {},
     "output_type": "display_data"
    }
   ],
   "source": [
    "import matplotlib.pyplot as plt\n",
    "plt.pie([n0-(n1+n2+n3),n1,n2,n3], labels=['Sin determinar','Habitual','Ocasional','Empresa'], autopct='%1.1f%%',)\n",
    "#Relación de la cantidad de viajes por tipo de usuario"
   ]
  },
  {
   "cell_type": "code",
   "execution_count": 18,
   "id": "f588e44e-c0e7-4816-992f-1f6319c1d88e",
   "metadata": {},
   "outputs": [
    {
     "data": {
      "text/plain": [
       "defaultdict(int,\n",
       "            {(10, 17): 2,\n",
       "             (10, 10): 2,\n",
       "             (10, 11): 2,\n",
       "             (10, 12): 1,\n",
       "             (6, 21): 1,\n",
       "             (6, 1): 2,\n",
       "             (6, 11): 1,\n",
       "             (6, 12): 2,\n",
       "             (6, 10): 1,\n",
       "             (6, 19): 1})"
      ]
     },
     "execution_count": 18,
     "metadata": {},
     "output_type": "execute_result"
    }
   ],
   "source": [
    "rdd_user2.countByKey()#Numero de viajes por horas #(mes, hora), total"
   ]
  },
  {
   "cell_type": "code",
   "execution_count": 19,
   "id": "b2c917b1-3e5a-454a-9a7b-8c77d0c598e0",
   "metadata": {},
   "outputs": [
    {
     "name": "stderr",
     "output_type": "stream",
     "text": [
      "                                                                                \r"
     ]
    },
    {
     "data": {
      "text/plain": [
       "[((6, 1), 6995), ((6, 10), 753)]"
      ]
     },
     "execution_count": 19,
     "metadata": {},
     "output_type": "execute_result"
    }
   ],
   "source": [
    "rdd_user2.reduceByKey(lambda x, y: x+y).sortByKey().take(2)#tiempo total de uso por horas"
   ]
  },
  {
   "cell_type": "code",
   "execution_count": 23,
   "id": "3d131a5e-67bb-4bb3-aa41-1e4121a46be7",
   "metadata": {},
   "outputs": [
    {
     "data": {
      "text/plain": [
       "[((6, 1), 3497.5), ((6, 10), 753.0)]"
      ]
     },
     "execution_count": 23,
     "metadata": {},
     "output_type": "execute_result"
    }
   ],
   "source": [
    "def mean(rdd):#calculo de la media, una vez aplicado filter_user\n",
    "    contador=(0,0)\n",
    "    return rdd.aggregateByKey(contador, lambda x,y: (x[0]+y, x[1]+1), lambda x,y: (x[0]+y[0], x[1]+y[1])).\\\n",
    "    map(lambda x: (x[0], x[1][0]/x[1][1]))\n",
    "rdd_mean2 = mean(rdd_user2)\n",
    "rdd_mean2.sortByKey().take(2)"
   ]
  },
  {
   "cell_type": "code",
   "execution_count": 28,
   "id": "79572fe6-5d18-4bfb-8423-e435cf5da1f0",
   "metadata": {},
   "outputs": [
    {
     "data": {
      "text/plain": [
       "PythonRDD[76] at RDD at PythonRDD.scala:53"
      ]
     },
     "execution_count": 28,
     "metadata": {},
     "output_type": "execute_result"
    }
   ],
   "source": [
    "rdd_user2jun = filter_month(rdd_user2, 6)\n",
    "rdd_user2jun.countByKey()\n",
    "rdd_user2junmean = mean(rdd_user2jun)\n",
    "rdd_user2junmean.sortByKey()"
   ]
  }
 ],
 "metadata": {
  "kernelspec": {
   "display_name": "Python 3 (ipykernel)",
   "language": "python",
   "name": "python3"
  },
  "language_info": {
   "codemirror_mode": {
    "name": "ipython",
    "version": 3
   },
   "file_extension": ".py",
   "mimetype": "text/x-python",
   "name": "python",
   "nbconvert_exporter": "python",
   "pygments_lexer": "ipython3",
   "version": "3.10.9"
  }
 },
 "nbformat": 4,
 "nbformat_minor": 5
}
