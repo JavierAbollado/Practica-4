{
 "cells": [
  {
   "cell_type": "code",
   "execution_count": 1,
   "id": "124b5451",
   "metadata": {},
   "outputs": [
    {
     "name": "stderr",
     "output_type": "stream",
     "text": [
      "23/05/12 15:35:06 WARN Utils: Your hostname, pclab058 resolves to a loopback address: 127.0.1.1; using 147.96.133.21 instead (on interface eno1)\n",
      "23/05/12 15:35:06 WARN Utils: Set SPARK_LOCAL_IP if you need to bind to another address\n",
      "WARNING: An illegal reflective access operation has occurred\n",
      "WARNING: Illegal reflective access by org.apache.spark.unsafe.Platform (file:/usr/local/lib/python3.10/dist-packages/pyspark/jars/spark-unsafe_2.12-3.2.1.jar) to constructor java.nio.DirectByteBuffer(long,int)\n",
      "WARNING: Please consider reporting this to the maintainers of org.apache.spark.unsafe.Platform\n",
      "WARNING: Use --illegal-access=warn to enable warnings of further illegal reflective access operations\n",
      "WARNING: All illegal access operations will be denied in a future release\n",
      "Using Spark's default log4j profile: org/apache/spark/log4j-defaults.properties\n",
      "Setting default log level to \"WARN\".\n",
      "To adjust logging level use sc.setLogLevel(newLevel). For SparkR, use setLogLevel(newLevel).\n",
      "23/05/12 15:35:07 WARN NativeCodeLoader: Unable to load native-hadoop library for your platform... using builtin-java classes where applicable\n",
      "23/05/12 15:35:08 WARN Utils: Service 'SparkUI' could not bind on port 4040. Attempting port 4041.\n"
     ]
    }
   ],
   "source": [
    "from pyspark.sql import SparkSession\n",
    "spark = SparkSession.builder.getOrCreate()"
   ]
  },
  {
   "cell_type": "code",
   "execution_count": 2,
   "id": "49291247",
   "metadata": {},
   "outputs": [],
   "source": [
    "data_path = \"../sample_10e3.json\""
   ]
  },
  {
   "cell_type": "code",
   "execution_count": 3,
   "id": "74e0253a",
   "metadata": {},
   "outputs": [
    {
     "name": "stderr",
     "output_type": "stream",
     "text": [
      "\r",
      "[Stage 0:>                                                          (0 + 1) / 1]\r",
      "\r",
      "                                                                                \r"
     ]
    }
   ],
   "source": [
    "df = spark.read.json(data_path)"
   ]
  },
  {
   "cell_type": "code",
   "execution_count": 4,
   "id": "dd5a1a79",
   "metadata": {},
   "outputs": [
    {
     "data": {
      "text/plain": [
       "DataFrame[_id: struct<$oid:string>, ageRange: bigint, idplug_base: bigint, idplug_station: bigint, idunplug_base: bigint, idunplug_station: bigint, travel_time: bigint, unplug_hourTime: struct<$date:string>, user_day_code: string, user_type: bigint, zip_code: string]"
      ]
     },
     "execution_count": 4,
     "metadata": {},
     "output_type": "execute_result"
    }
   ],
   "source": [
    "df"
   ]
  },
  {
   "cell_type": "code",
   "execution_count": 6,
   "id": "cb73e234",
   "metadata": {},
   "outputs": [
    {
     "name": "stdout",
     "output_type": "stream",
     "text": [
      "+--------------------+--------+-----------+--------------+-------------+----------------+-----------+--------------------+--------------------+---------+--------+\n",
      "|                 _id|ageRange|idplug_base|idplug_station|idunplug_base|idunplug_station|travel_time|     unplug_hourTime|       user_day_code|user_type|zip_code|\n",
      "+--------------------+--------+-----------+--------------+-------------+----------------+-----------+--------------------+--------------------+---------+--------+\n",
      "|{5cf83b752f3843a0...|       0|         21|            66|            8|              90|        219|{2019-06-01T00:00...|e4d55deb9ac172a8d...|        1|        |\n",
      "|{5cf83b762f3843a0...|       4|         19|           136|           19|              71|        359|{2019-06-01T00:00...|8a0c4123e924a50a9...|        1|   28039|\n",
      "|{5cf83b762f3843a0...|       4|         17|            38|            7|              39|        375|{2019-06-01T00:00...|a6a9c1f74a6849600...|        1|   28013|\n",
      "|{5cf83b762f3843a0...|       5|          4|            90|           21|              66|        264|{2019-06-01T00:00...|5706c0bd494acc022...|        1|   28009|\n",
      "|{5cf83b762f3843a0...|       4|          3|           166|           13|             152|        367|{2019-06-01T00:00...|eb1b6d32bd4add5d5...|        1|   28006|\n",
      "|{5cf83b762f3843a0...|       5|         14|            53|            4|              55|        174|{2019-06-01T00:00...|c2905f6038aa9523d...|        1|   28907|\n",
      "|{5cf83b762f3843a0...|       0|          2|           129|            6|             133|        308|{2019-06-01T00:00...|f94420744ea060ac4...|        1|        |\n",
      "|{5cf83b762f3843a0...|       4|         21|           169|            3|             153|        462|{2019-06-01T00:00...|e75471af2ea032a32...|        1|   28003|\n",
      "|{5cf83b762f3843a0...|       0|         24|           129|           14|              44|        482|{2019-06-01T00:00...|c0d73ee753773a3bf...|        1|        |\n",
      "|{5cf83b762f3843a0...|       4|         11|           133|           21|              85|        480|{2019-06-01T00:00...|47ecd557f21ca7aee...|        1|   28004|\n",
      "|{5cf83b762f3843a0...|       5|          2|            83|           18|              31|        546|{2019-06-01T00:00...|87ccc3f59b45ef261...|        1|   28007|\n",
      "|{5cf83b762f3843a0...|       0|          7|            53|           15|              38|        519|{2019-06-01T00:00...|05bd8e0842cbfadb8...|        1|        |\n",
      "|{5cf83b762f3843a0...|       4|         24|            13|           17|             118|        374|{2019-06-01T00:00...|812870450df33ac5c...|        1|   39316|\n",
      "|{5cf83b762f3843a0...|       4|         13|            10|            9|              27|        188|{2019-06-01T00:00...|c828f824a86378bf0...|        1|   28012|\n",
      "|{5cf83b762f3843a0...|       4|          2|            74|           20|              90|        133|{2019-06-01T00:00...|538fc94c0d298f7ee...|        1|   28045|\n",
      "|{5cf83b762f3843a0...|       0|         17|            54|           21|             100|        514|{2019-06-01T00:00...|53a9f79ec4c6d60c2...|        1|        |\n",
      "|{5cf83b762f3843a0...|       4|         12|            83|            5|              67|        517|{2019-06-01T00:00...|b27886fecd2db0f3c...|        1|   28008|\n",
      "|{5cf83b762f3843a0...|       4|          5|            83|            3|              67|        525|{2019-06-01T00:00...|eee03ef92db2fe559...|        1|   28019|\n",
      "|{5cf83b762f3843a0...|       0|          9|           163|            5|              63|        351|{2019-06-01T00:00...|b61ef9ebd0342c431...|        1|        |\n",
      "|{5cf83b762f3843a0...|       0|         22|            84|            7|              42|        483|{2019-06-01T00:00...|01bf069d0732b2b01...|        1|        |\n",
      "+--------------------+--------+-----------+--------------+-------------+----------------+-----------+--------------------+--------------------+---------+--------+\n",
      "only showing top 20 rows\n",
      "\n"
     ]
    }
   ],
   "source": [
    "df.show()"
   ]
  },
  {
   "cell_type": "code",
   "execution_count": 8,
   "id": "c7d531c0",
   "metadata": {},
   "outputs": [
    {
     "data": {
      "text/plain": [
       "['_id',\n",
       " 'ageRange',\n",
       " 'idplug_base',\n",
       " 'idplug_station',\n",
       " 'idunplug_base',\n",
       " 'idunplug_station',\n",
       " 'travel_time',\n",
       " 'unplug_hourTime',\n",
       " 'user_day_code',\n",
       " 'user_type',\n",
       " 'zip_code']"
      ]
     },
     "execution_count": 8,
     "metadata": {},
     "output_type": "execute_result"
    }
   ],
   "source": [
    "df.columns"
   ]
  },
  {
   "cell_type": "code",
   "execution_count": 7,
   "id": "ce355278",
   "metadata": {},
   "outputs": [
    {
     "name": "stdout",
     "output_type": "stream",
     "text": [
      "+---------+-----+\n",
      "|user_type|count|\n",
      "+---------+-----+\n",
      "|        1|  954|\n",
      "|        3|   36|\n",
      "|        2|   10|\n",
      "+---------+-----+\n",
      "\n"
     ]
    }
   ],
   "source": [
    "#1 Contar cada tipo\n",
    "df.groupBy('user_type').count().show()"
   ]
  },
  {
   "cell_type": "code",
   "execution_count": 9,
   "id": "37bf938e",
   "metadata": {},
   "outputs": [
    {
     "name": "stdout",
     "output_type": "stream",
     "text": [
      "+--------+-----+\n",
      "|ageRange|count|\n",
      "+--------+-----+\n",
      "|       0|  491|\n",
      "|       6|    5|\n",
      "|       5|  131|\n",
      "|       1|   19|\n",
      "|       3|   75|\n",
      "|       2|   12|\n",
      "|       4|  267|\n",
      "+--------+-----+\n",
      "\n"
     ]
    }
   ],
   "source": [
    "#1 Contar cada tipo\n",
    "df.groupBy('ageRange').count().show()"
   ]
  },
  {
   "cell_type": "code",
   "execution_count": 10,
   "id": "01e0aaf7",
   "metadata": {},
   "outputs": [
    {
     "name": "stdout",
     "output_type": "stream",
     "text": [
      "+-----------+-----+\n",
      "|idplug_base|count|\n",
      "+-----------+-----+\n",
      "|         26|    9|\n",
      "|         19|   26|\n",
      "|         22|   38|\n",
      "|          7|   45|\n",
      "|         25|    6|\n",
      "|          6|   33|\n",
      "|          9|   49|\n",
      "|         27|    5|\n",
      "|         17|   37|\n",
      "|          5|   50|\n",
      "|          1|   49|\n",
      "|         10|   31|\n",
      "|          3|   54|\n",
      "|         12|   39|\n",
      "|          8|   44|\n",
      "|         11|   39|\n",
      "|          2|   64|\n",
      "|          4|   49|\n",
      "|         13|   27|\n",
      "|         18|   29|\n",
      "+-----------+-----+\n",
      "only showing top 20 rows\n",
      "\n"
     ]
    }
   ],
   "source": [
    "#1 Contar cada tipo\n",
    "df.groupBy('idplug_base').count().show()"
   ]
  },
  {
   "cell_type": "code",
   "execution_count": null,
   "id": "614ec9bf",
   "metadata": {},
   "outputs": [],
   "source": []
  }
 ],
 "metadata": {
  "kernelspec": {
   "display_name": "Python 3 (ipykernel)",
   "language": "python",
   "name": "python3"
  },
  "language_info": {
   "codemirror_mode": {
    "name": "ipython",
    "version": 3
   },
   "file_extension": ".py",
   "mimetype": "text/x-python",
   "name": "python",
   "nbconvert_exporter": "python",
   "pygments_lexer": "ipython3",
   "version": "3.10.6"
  }
 },
 "nbformat": 4,
 "nbformat_minor": 5
}
