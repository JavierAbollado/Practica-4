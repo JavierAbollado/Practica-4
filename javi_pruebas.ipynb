{
 "cells": [
  {
   "cell_type": "code",
   "execution_count": 4,
   "id": "124b5451",
   "metadata": {},
   "outputs": [
    {
     "name": "stderr",
     "output_type": "stream",
     "text": [
      "23/05/12 16:23:17 WARN Utils: Your hostname, pclab058 resolves to a loopback address: 127.0.1.1; using 147.96.133.21 instead (on interface eno1)\n",
      "23/05/12 16:23:17 WARN Utils: Set SPARK_LOCAL_IP if you need to bind to another address\n",
      "WARNING: An illegal reflective access operation has occurred\n",
      "WARNING: Illegal reflective access by org.apache.spark.unsafe.Platform (file:/usr/local/lib/python3.10/dist-packages/pyspark/jars/spark-unsafe_2.12-3.2.1.jar) to constructor java.nio.DirectByteBuffer(long,int)\n",
      "WARNING: Please consider reporting this to the maintainers of org.apache.spark.unsafe.Platform\n",
      "WARNING: Use --illegal-access=warn to enable warnings of further illegal reflective access operations\n",
      "WARNING: All illegal access operations will be denied in a future release\n",
      "Using Spark's default log4j profile: org/apache/spark/log4j-defaults.properties\n",
      "Setting default log level to \"WARN\".\n",
      "To adjust logging level use sc.setLogLevel(newLevel). For SparkR, use setLogLevel(newLevel).\n",
      "23/05/12 16:23:18 WARN NativeCodeLoader: Unable to load native-hadoop library for your platform... using builtin-java classes where applicable\n",
      "23/05/12 16:23:19 WARN Utils: Service 'SparkUI' could not bind on port 4040. Attempting port 4041.\n",
      "23/05/12 16:23:19 WARN Utils: Service 'SparkUI' could not bind on port 4041. Attempting port 4042.\n"
     ]
    }
   ],
   "source": [
    "from pyspark.sql import SparkSession\n",
    "spark = SparkSession.builder.getOrCreate()"
   ]
  },
  {
   "cell_type": "code",
   "execution_count": 17,
   "id": "614ec9bf",
   "metadata": {},
   "outputs": [],
   "source": [
    "import matplotlib.pyplot as plt\n",
    "import pandas as pd"
   ]
  },
  {
   "cell_type": "code",
   "execution_count": 7,
   "id": "49291247",
   "metadata": {},
   "outputs": [],
   "source": [
    "data_path = \"datos/sample_10e3.json\""
   ]
  },
  {
   "cell_type": "code",
   "execution_count": 8,
   "id": "74e0253a",
   "metadata": {},
   "outputs": [
    {
     "name": "stderr",
     "output_type": "stream",
     "text": [
      "\r",
      "[Stage 0:>                                                          (0 + 1) / 1]\r",
      "\r",
      "                                                                                \r"
     ]
    }
   ],
   "source": [
    "df = spark.read.json(data_path)"
   ]
  },
  {
   "cell_type": "code",
   "execution_count": 4,
   "id": "dd5a1a79",
   "metadata": {},
   "outputs": [
    {
     "data": {
      "text/plain": [
       "DataFrame[_id: struct<$oid:string>, ageRange: bigint, idplug_base: bigint, idplug_station: bigint, idunplug_base: bigint, idunplug_station: bigint, travel_time: bigint, unplug_hourTime: struct<$date:string>, user_day_code: string, user_type: bigint, zip_code: string]"
      ]
     },
     "execution_count": 4,
     "metadata": {},
     "output_type": "execute_result"
    }
   ],
   "source": [
    "df"
   ]
  },
  {
   "cell_type": "code",
   "execution_count": null,
   "id": "aa243a65",
   "metadata": {},
   "outputs": [],
   "source": [
    "df.show()"
   ]
  },
  {
   "cell_type": "code",
   "execution_count": 8,
   "id": "c7d531c0",
   "metadata": {},
   "outputs": [
    {
     "data": {
      "text/plain": [
       "['_id',\n",
       " 'ageRange',\n",
       " 'idplug_base',\n",
       " 'idplug_station',\n",
       " 'idunplug_base',\n",
       " 'idunplug_station',\n",
       " 'travel_time',\n",
       " 'unplug_hourTime',\n",
       " 'user_day_code',\n",
       " 'user_type',\n",
       " 'zip_code']"
      ]
     },
     "execution_count": 8,
     "metadata": {},
     "output_type": "execute_result"
    }
   ],
   "source": [
    "df.columns"
   ]
  },
  {
   "cell_type": "code",
   "execution_count": 7,
   "id": "ce355278",
   "metadata": {},
   "outputs": [
    {
     "name": "stdout",
     "output_type": "stream",
     "text": [
      "+---------+-----+\n",
      "|user_type|count|\n",
      "+---------+-----+\n",
      "|        1|  954|\n",
      "|        3|   36|\n",
      "|        2|   10|\n",
      "+---------+-----+\n",
      "\n"
     ]
    }
   ],
   "source": [
    "#1 Contar cada tipo\n",
    "df.groupBy('user_type').count().show()"
   ]
  },
  {
   "cell_type": "code",
   "execution_count": 9,
   "id": "37bf938e",
   "metadata": {},
   "outputs": [
    {
     "name": "stdout",
     "output_type": "stream",
     "text": [
      "+--------+-----+\n",
      "|ageRange|count|\n",
      "+--------+-----+\n",
      "|       0|  491|\n",
      "|       6|    5|\n",
      "|       5|  131|\n",
      "|       1|   19|\n",
      "|       3|   75|\n",
      "|       2|   12|\n",
      "|       4|  267|\n",
      "+--------+-----+\n",
      "\n"
     ]
    }
   ],
   "source": [
    "#1 Contar cada tipo\n",
    "df.groupBy('ageRange').count().show()"
   ]
  },
  {
   "cell_type": "code",
   "execution_count": 10,
   "id": "01e0aaf7",
   "metadata": {},
   "outputs": [
    {
     "name": "stdout",
     "output_type": "stream",
     "text": [
      "+-----------+-----+\n",
      "|idplug_base|count|\n",
      "+-----------+-----+\n",
      "|         26|    9|\n",
      "|         19|   26|\n",
      "|         22|   38|\n",
      "|          7|   45|\n",
      "|         25|    6|\n",
      "|          6|   33|\n",
      "|          9|   49|\n",
      "|         27|    5|\n",
      "|         17|   37|\n",
      "|          5|   50|\n",
      "|          1|   49|\n",
      "|         10|   31|\n",
      "|          3|   54|\n",
      "|         12|   39|\n",
      "|          8|   44|\n",
      "|         11|   39|\n",
      "|          2|   64|\n",
      "|          4|   49|\n",
      "|         13|   27|\n",
      "|         18|   29|\n",
      "+-----------+-----+\n",
      "only showing top 20 rows\n",
      "\n"
     ]
    }
   ],
   "source": [
    "#1 Contar cada tipo\n",
    "df.groupBy('idplug_base').count().show()"
   ]
  },
  {
   "cell_type": "code",
   "execution_count": 16,
   "id": "47fb2735",
   "metadata": {},
   "outputs": [
    {
     "name": "stdout",
     "output_type": "stream",
     "text": [
      "Defaulting to user installation because normal site-packages is not writeable\n",
      "Collecting pandas\n",
      "  Downloading pandas-2.0.1-cp310-cp310-manylinux_2_17_x86_64.manylinux2014_x86_64.whl (12.3 MB)\n",
      "\u001b[2K     \u001b[38;2;114;156;31m━━━━━━━━━━━━━━━━━━━━━━━━━━━━━━━━━━━━━━━━\u001b[0m \u001b[32m12.3/12.3 MB\u001b[0m \u001b[31m38.6 MB/s\u001b[0m eta \u001b[36m0:00:00\u001b[0mm eta \u001b[36m0:00:01\u001b[0m36m0:00:01\u001b[0m\n",
      "\u001b[?25hRequirement already satisfied: numpy>=1.21.0 in /usr/local/lib/python3.10/dist-packages (from pandas) (1.22.3)\n",
      "Requirement already satisfied: python-dateutil>=2.8.2 in /usr/local/lib/python3.10/dist-packages (from pandas) (2.8.2)\n",
      "Collecting tzdata>=2022.1\n",
      "  Downloading tzdata-2023.3-py2.py3-none-any.whl (341 kB)\n",
      "\u001b[2K     \u001b[38;2;114;156;31m━━━━━━━━━━━━━━━━━━━━━━━━━━━━━━━━━━━━━━━\u001b[0m \u001b[32m341.8/341.8 KB\u001b[0m \u001b[31m6.1 MB/s\u001b[0m eta \u001b[36m0:00:00\u001b[0mm eta \u001b[36m0:00:01\u001b[0m\n",
      "\u001b[?25hRequirement already satisfied: pytz>=2020.1 in /usr/lib/python3/dist-packages (from pandas) (2022.1)\n",
      "Requirement already satisfied: six>=1.5 in /usr/lib/python3/dist-packages (from python-dateutil>=2.8.2->pandas) (1.16.0)\n",
      "Installing collected packages: tzdata, pandas\n",
      "Successfully installed pandas-2.0.1 tzdata-2023.3\n"
     ]
    }
   ],
   "source": [
    "!pip install pandas"
   ]
  },
  {
   "cell_type": "markdown",
   "id": "d7e4c6ac",
   "metadata": {},
   "source": [
    "# Pruebas de edad vs cuánto tiempo van en bici\n",
    "\n",
    " - Para poder hacer los gráficos necesitamos pasar 1º el dataframe al pandas y luego ya hacerle el plot. obviamente esto lo podemos hacer con pocos datos de prueba (luego no podremos). Pero nos sirve para tener una idea de cómo se comportan los datos.\n",
    " \n",
    " - Función clave: groupBy('columna que queramos'), luego podremos hacer sumas, medias, conteos, etc respecto a otras."
   ]
  },
  {
   "cell_type": "code",
   "execution_count": 103,
   "id": "335415f9",
   "metadata": {},
   "outputs": [],
   "source": [
    "df2 = df.toPandas()"
   ]
  },
  {
   "cell_type": "code",
   "execution_count": 104,
   "id": "9ccfb38d",
   "metadata": {},
   "outputs": [
    {
     "data": {
      "text/plain": [
       "<AxesSubplot:xlabel='ageRange', ylabel='travel_time'>"
      ]
     },
     "execution_count": 104,
     "metadata": {},
     "output_type": "execute_result"
    },
    {
     "data": {
      "image/png": "[encoded data removed]",
      "text/plain": [
       "<Figure size 432x288 with 1 Axes>"
      ]
     },
     "metadata": {
      "needs_background": "light"
     },
     "output_type": "display_data"
    }
   ],
   "source": [
    "df2.plot.scatter(x=\"ageRange\", y=\"travel_time\")"
   ]
  },
  {
   "cell_type": "code",
   "execution_count": 105,
   "id": "11757d39",
   "metadata": {},
   "outputs": [],
   "source": [
    "#1 Contar cada tipo\n",
    "df3 = df.gdf.count()roupBy('ageRange').sum('travel_time')"
   ]
  },
  {
   "cell_type": "code",
   "execution_count": 106,
   "id": "4f288dec",
   "metadata": {},
   "outputs": [
    {
     "name": "stdout",
     "output_type": "stream",
     "text": [
      "+--------+----------------+\n",
      "|ageRange|sum(travel_time)|\n",
      "+--------+----------------+\n",
      "|       0|          465023|\n",
      "|       6|            4914|\n",
      "|       5|          103866|\n",
      "|       1|           20765|\n",
      "|       3|           62021|\n",
      "|       2|            8102|\n",
      "|       4|          239544|\n",
      "+--------+----------------+\n",
      "\n"
     ]
    }
   ],
   "source": [
    "df3.show()"
   ]
  },
  {
   "cell_type": "code",
   "execution_count": 107,
   "id": "19513615",
   "metadata": {},
   "outputs": [],
   "source": [
    "df3 = df3.orderBy('ageRange')"
   ]
  },
  {
   "cell_type": "code",
   "execution_count": 108,
   "id": "4890704e",
   "metadata": {},
   "outputs": [
    {
     "data": {
      "text/plain": [
       "['ageRange', 'sum(travel_time)']"
      ]
     },
     "execution_count": 108,
     "metadata": {},
     "output_type": "execute_result"
    }
   ],
   "source": [
    "df3.columns"
   ]
  },
  {
   "cell_type": "code",
   "execution_count": 109,
   "id": "058a60a6",
   "metadata": {},
   "outputs": [
    {
     "name": "stdout",
     "output_type": "stream",
     "text": [
      "+--------+----------------+\n",
      "|ageRange|sum(travel_time)|\n",
      "+--------+----------------+\n",
      "|       0|          465023|\n",
      "|       1|           20765|\n",
      "|       2|            8102|\n",
      "|       3|           62021|\n",
      "|       4|          239544|\n",
      "|       5|          103866|\n",
      "|       6|            4914|\n",
      "+--------+----------------+\n",
      "\n"
     ]
    }
   ],
   "source": [
    "df3.show()"
   ]
  },
  {
   "cell_type": "code",
   "execution_count": 110,
   "id": "2d090d01",
   "metadata": {},
   "outputs": [
    {
     "data": {
      "text/plain": [
       "<AxesSubplot:ylabel='sum(travel_time)'>"
      ]
     },
     "execution_count": 110,
     "metadata": {},
     "output_type": "execute_result"
    },
    {
     "data": {
      "image/png": "[encoded data removed]",
      "text/plain": [
       "<Figure size 432x288 with 1 Axes>"
      ]
     },
     "metadata": {},
     "output_type": "display_data"
    }
   ],
   "source": [
    "df3.toPandas().plot.pie(y='sum(travel_time)')"
   ]
  },
  {
   "cell_type": "code",
   "execution_count": 113,
   "id": "8b69aba9",
   "metadata": {},
   "outputs": [
    {
     "data": {
      "text/plain": [
       "<AxesSubplot:xlabel='ageRange'>"
      ]
     },
     "execution_count": 113,
     "metadata": {},
     "output_type": "execute_result"
    },
    {
     "data": {
      "image/png": "[encoded data removed]",
      "text/plain": [
       "<Figure size 432x288 with 1 Axes>"
      ]
     },
     "metadata": {
      "needs_background": "light"
     },
     "output_type": "display_data"
    }
   ],
   "source": [
    "# quitamos la fila 0 que es la que tiene rangos de edades desconocidas, por eso no nos interesa\n",
    "df3.toPandas().drop(0).plot.bar(x='ageRange', y='sum(travel_time)', legend=False)"
   ]
  },
  {
   "cell_type": "markdown",
   "id": "95477c4b",
   "metadata": {},
   "source": [
    "# Pruebas para el conteo de cuantas bicis se desenganchan de un sitio vs cuántas se enganchan"
   ]
  },
  {
   "cell_type": "markdown",
   "id": "26995ab9",
   "metadata": {},
   "source": [
    "Agrupamos los datos por los ids de las estaciones. Un dataframe con los plugs y otro con los un_plugs, y los contamos. Luego los unimos con un join con respecto al id. Así podemos ver comparar en cada estación cuantos ha habido de cada."
   ]
  },
  {
   "cell_type": "code",
   "execution_count": 120,
   "id": "e1987b72",
   "metadata": {},
   "outputs": [],
   "source": [
    "df1 = df.groupBy('idunplug_station').count()"
   ]
  },
  {
   "cell_type": "code",
   "execution_count": 121,
   "id": "b571ebe4",
   "metadata": {},
   "outputs": [],
   "source": [
    "df2 = df.groupBy('idplug_station').count()"
   ]
  },
  {
   "cell_type": "code",
   "execution_count": 122,
   "id": "b543feab",
   "metadata": {},
   "outputs": [],
   "source": [
    "# renombrar las columnas para unirlas\n",
    "df1 = df1.withColumnRenamed('idunplug_station', 'id').withColumnRenamed('count', 'n_unplugs')\n",
    "df2 = df2.withColumnRenamed('idplug_station', unplug_hourTime'id').withColumnRenamed('count', 'n_plugs')"
   ]
  },
  {
   "cell_type": "code",
   "execution_count": 123,
   "id": "697a58cc",
   "metadata": {},
   "outputs": [],
   "source": [
    "df3 = df1.join(df2, on='id')"
   ]
  },
  {
   "cell_type": "code",
   "execution_count": 124,
   "id": "1980dd4d",
   "metadata": {},
   "outputs": [
    {
     "data": {
      "text/plain": [
       "DataFrame[id: bigint, n_unplugs: bigint, n_plugs: bigint]"
      ]
     },
     "execution_count": 124,
     "metadata": {},
     "output_type": "execute_result"
    }
   ],
   "source": [
    "df3"
   ]
  },
  {
   "cell_type": "code",
   "execution_count": 125,
   "id": "42d15243",
   "metadata": {},
   "outputs": [
    {
     "name": "stdout",
     "output_type": "stream",
     "text": [
      "+---+---------+-------+\n",
      "| id|n_unplugs|n_plugs|\n",
      "+---+---------+-------+\n",
      "| 26|       12|     10|\n",
      "| 29|        1|      1|\n",
      "| 65|        8|      7|\n",
      "| 54|        8|      8|\n",
      "| 19|       17|      5|\n",
      "|155|        2|     17|\n",
      "|113|        4|      1|\n",
      "|167|        9|      2|\n",
      "|130|        3|      1|\n",
      "| 77|        3|     13|\n",
      "|  7|        8|      2|\n",
      "| 34|        1|      4|\n",
      "|126|        3|     10|\n",
      "| 94|        3|      2|\n",
      "|149|       10|     21|\n",
      "| 50|        4|      3|\n",
      "|190|        2|      5|\n",
      "|110|        7|      1|\n",
      "|136|        9|     22|\n",
      "| 57|       34|     27|\n",
      "+---+---------+-------+\n",
      "only showing top 20 rows\n",
      "\n"
     ]
    }
   ],
   "source": [
    "df3.show()"
   ]
  },
  {
   "cell_type": "markdown",
   "id": "c935774e",
   "metadata": {},
   "source": [
    " - **limit(10)**: Limitar a solo 10 estaciones (pàra que se vea en el plot)\n",
    " - **toPandas()**: para pasarlo a un pandas dataframe y poder plotear"
   ]
  },
  {
   "cell_type": "code",
   "execution_count": 128,
   "id": "6fb3d507",
   "metadata": {},
   "outputs": [
    {
     "data": {
      "text/plain": [
       "<AxesSubplot:title={'center':'Visualización de la demanda de las estaciones'}, xlabel='id'>"
      ]
     },
     "execution_count": 128,
     "metadata": {},
     "output_type": "execute_result"
    },
    {
     "data": {
      "image/png": "[encoded data removed]",
      "text/plain": [
       "<Figure size 432x288 with 1 Axes>"
      ]
     },
     "metadata": {
      "needs_background": "light"
     },
     "output_type": "display_data"
    }
   ],
   "source": [
    "df3.limit(10).toPandas().plot.bar(\n",
    "    x='id', \n",
    "    y=['n_unplugs','n_plugs'], \n",
    "    color=['red','green'],\n",
    "    title=\"Visualización de la demanda de las estaciones\"\n",
    ")"
   ]
  },
  {
   "cell_type": "markdown",
   "id": "3b740735",
   "metadata": {},
   "source": [
    "Vamos ordenar ahora por la resta de ambas demandas. Así podemos ver qué estaciones quitan más bicis y luego no vuelven."
   ]
  },
  {
   "cell_type": "code",
   "execution_count": 157,
   "id": "ef6a925c",
   "metadata": {},
   "outputs": [
    {
     "data": {
      "text/plain": [
       "1000"
      ]
     },
     "execution_count": 157,
     "metadata": {},
     "output_type": "execute_result"
    }
   ],
   "source": [
    "df.count()"
   ]
  },
  {
   "cell_type": "code",
   "execution_count": null,
   "id": "67bec302",
   "metadata": {},
   "outputs": [],
   "source": []
  }
 ],
 "metadata": {
  "kernelspec": {
   "display_name": "Python 3 (ipykernel)",
   "language": "python",
   "name": "python3"
  },
  "language_info": {
   "codemirror_mode": {
    "name": "ipython",
    "version": 3
   },
   "file_extension": ".py",
   "mimetype": "text/x-python",
   "name": "python",
   "nbconvert_exporter": "python",
   "pygments_lexer": "ipython3",
   "version": "3.10.6"
  }
 },
 "nbformat": 4,
 "nbformat_minor": 5
}
