{
 "cells": [
  {
   "cell_type": "code",
   "execution_count": 1,
   "id": "124b5451",
   "metadata": {},
   "outputs": [
    {
     "name": "stderr",
     "output_type": "stream",
     "text": [
      "23/05/16 09:11:24 WARN Utils: Your hostname, pclab028 resolves to a loopback address: 127.0.1.1; using 147.96.132.245 instead (on interface eno1)\n",
      "23/05/16 09:11:24 WARN Utils: Set SPARK_LOCAL_IP if you need to bind to another address\n",
      "WARNING: An illegal reflective access operation has occurred\n",
      "WARNING: Illegal reflective access by org.apache.spark.unsafe.Platform (file:/usr/local/lib/python3.10/dist-packages/pyspark/jars/spark-unsafe_2.12-3.2.1.jar) to constructor java.nio.DirectByteBuffer(long,int)\n",
      "WARNING: Please consider reporting this to the maintainers of org.apache.spark.unsafe.Platform\n",
      "WARNING: Use --illegal-access=warn to enable warnings of further illegal reflective access operations\n",
      "WARNING: All illegal access operations will be denied in a future release\n",
      "Using Spark's default log4j profile: org/apache/spark/log4j-defaults.properties\n",
      "Setting default log level to \"WARN\".\n",
      "To adjust logging level use sc.setLogLevel(newLevel). For SparkR, use setLogLevel(newLevel).\n",
      "23/05/16 09:11:26 WARN NativeCodeLoader: Unable to load native-hadoop library for your platform... using builtin-java classes where applicable\n"
     ]
    }
   ],
   "source": [
    "from pyspark.sql import SparkSession\n",
    "spark = SparkSession.builder.getOrCreate()"
   ]
  },
  {
   "cell_type": "code",
   "execution_count": 3,
   "id": "b70a12b2",
   "metadata": {},
   "outputs": [
    {
     "name": "stdout",
     "output_type": "stream",
     "text": [
      "Defaulting to user installation because normal site-packages is not writeable\n",
      "Collecting pandas\n",
      "  Downloading pandas-2.0.1-cp310-cp310-manylinux_2_17_x86_64.manylinux2014_x86_64.whl (12.3 MB)\n",
      "\u001b[2K     \u001b[38;2;114;156;31m━━━━━━━━━━━━━━━━━━━━━━━━━━━━━━━━━━━━━━━━\u001b[0m \u001b[32m12.3/12.3 MB\u001b[0m \u001b[31m39.8 MB/s\u001b[0m eta \u001b[36m0:00:00\u001b[0mm eta \u001b[36m0:00:01\u001b[0m[36m0:00:01\u001b[0m\n",
      "\u001b[?25hCollecting tzdata>=2022.1\n",
      "  Downloading tzdata-2023.3-py2.py3-none-any.whl (341 kB)\n",
      "\u001b[2K     \u001b[38;2;114;156;31m━━━━━━━━━━━━━━━━━━━━━━━━━━━━━━━━━━━━━━━\u001b[0m \u001b[32m341.8/341.8 KB\u001b[0m \u001b[31m7.1 MB/s\u001b[0m eta \u001b[36m0:00:00\u001b[0mm eta \u001b[36m0:00:01\u001b[0m\n",
      "\u001b[?25hRequirement already satisfied: numpy>=1.21.0 in /usr/local/lib/python3.10/dist-packages (from pandas) (1.22.3)\n",
      "Requirement already satisfied: pytz>=2020.1 in /usr/lib/python3/dist-packages (from pandas) (2022.1)\n",
      "Requirement already satisfied: python-dateutil>=2.8.2 in /usr/local/lib/python3.10/dist-packages (from pandas) (2.8.2)\n",
      "Requirement already satisfied: six>=1.5 in /usr/lib/python3/dist-packages (from python-dateutil>=2.8.2->pandas) (1.16.0)\n",
      "Installing collected packages: tzdata, pandas\n",
      "Successfully installed pandas-2.0.1 tzdata-2023.3\n"
     ]
    }
   ],
   "source": [
    "!pip install pandas"
   ]
  },
  {
   "cell_type": "code",
   "execution_count": 4,
   "id": "614ec9bf",
   "metadata": {},
   "outputs": [],
   "source": [
    "import matplotlib.pyplot as plt\n",
    "import pandas as pd"
   ]
  },
  {
   "cell_type": "code",
   "execution_count": 5,
   "id": "49291247",
   "metadata": {},
   "outputs": [],
   "source": [
    "data_path = \"datos/sample_10e3.json\""
   ]
  },
  {
   "cell_type": "code",
   "execution_count": 7,
   "id": "74e0253a",
   "metadata": {},
   "outputs": [
    {
     "name": "stderr",
     "output_type": "stream",
     "text": [
      "                                                                                \r"
     ]
    }
   ],
   "source": [
    "df = spark.read.json(data_path)"
   ]
  },
  {
   "cell_type": "code",
   "execution_count": null,
   "id": "1b6c735a",
   "metadata": {},
   "outputs": [],
   "source": [
    "df.show()"
   ]
  },
  {
   "cell_type": "code",
   "execution_count": 9,
   "id": "c7d531c0",
   "metadata": {},
   "outputs": [
    {
     "data": {
      "text/plain": [
       "['_id',\n",
       " 'ageRange',\n",
       " 'idplug_base',\n",
       " 'idplug_station',\n",
       " 'idunplug_base',\n",
       " 'idunplug_station',\n",
       " 'travel_time',\n",
       " 'unplug_hourTime',\n",
       " 'user_day_code',\n",
       " 'user_type',\n",
       " 'zip_code']"
      ]
     },
     "execution_count": 9,
     "metadata": {},
     "output_type": "execute_result"
    }
   ],
   "source": [
    "df.columns"
   ]
  },
  {
   "cell_type": "code",
   "execution_count": 7,
   "id": "ce355278",
   "metadata": {},
   "outputs": [
    {
     "name": "stdout",
     "output_type": "stream",
     "text": [
      "+---------+-----+\n",
      "|user_type|count|\n",
      "+---------+-----+\n",
      "|        1|  954|\n",
      "|        3|   36|\n",
      "|        2|   10|\n",
      "+---------+-----+\n",
      "\n"
     ]
    }
   ],
   "source": [
    "#1 Contar cada tipo\n",
    "df.groupBy('user_type').count().show()"
   ]
  },
  {
   "cell_type": "code",
   "execution_count": 9,
   "id": "37bf938e",
   "metadata": {},
   "outputs": [
    {
     "name": "stdout",
     "output_type": "stream",
     "text": [
      "+--------+-----+\n",
      "|ageRange|count|\n",
      "+--------+-----+\n",
      "|       0|  491|\n",
      "|       6|    5|\n",
      "|       5|  131|\n",
      "|       1|   19|\n",
      "|       3|   75|\n",
      "|       2|   12|\n",
      "|       4|  267|\n",
      "+--------+-----+\n",
      "\n"
     ]
    }
   ],
   "source": [
    "#1 Contar cada tipo\n",
    "df.groupBy('ageRange').count().show()"
   ]
  },
  {
   "cell_type": "code",
   "execution_count": 10,
   "id": "01e0aaf7",
   "metadata": {},
   "outputs": [
    {
     "name": "stdout",
     "output_type": "stream",
     "text": [
      "+-----------+-----+\n",
      "|idplug_base|count|\n",
      "+-----------+-----+\n",
      "|         26|    9|\n",
      "|         19|   26|\n",
      "|         22|   38|\n",
      "|          7|   45|\n",
      "|         25|    6|\n",
      "|          6|   33|\n",
      "|          9|   49|\n",
      "|         27|    5|\n",
      "|         17|   37|\n",
      "|          5|   50|\n",
      "|          1|   49|\n",
      "|         10|   31|\n",
      "|          3|   54|\n",
      "|         12|   39|\n",
      "|          8|   44|\n",
      "|         11|   39|\n",
      "|          2|   64|\n",
      "|          4|   49|\n",
      "|         13|   27|\n",
      "|         18|   29|\n",
      "+-----------+-----+\n",
      "only showing top 20 rows\n",
      "\n"
     ]
    }
   ],
   "source": [
    "#1 Contar cada tipo\n",
    "df.groupBy('idplug_base').count().show()"
   ]
  },
  {
   "cell_type": "markdown",
   "id": "d7e4c6ac",
   "metadata": {},
   "source": [
    "# Pruebas de edad vs cuánto tiempo van en bici\n",
    "\n",
    " - Para poder hacer los gráficos necesitamos pasar 1º el dataframe al pandas y luego ya hacerle el plot. obviamente esto lo podemos hacer con pocos datos de prueba (luego no podremos). Pero nos sirve para tener una idea de cómo se comportan los datos.\n",
    " \n",
    " - Función clave: groupBy('columna que queramos'), luego podremos hacer sumas, medias, conteos, etc respecto a otras."
   ]
  },
  {
   "cell_type": "code",
   "execution_count": 103,
   "id": "335415f9",
   "metadata": {},
   "outputs": [],
   "source": [
    "df2 = df.toPandas()"
   ]
  },
  {
   "cell_type": "code",
   "execution_count": 104,
   "id": "9ccfb38d",
   "metadata": {},
   "outputs": [
    {
     "data": {
      "text/plain": [
       "<AxesSubplot:xlabel='ageRange', ylabel='travel_time'>"
      ]
     },
     "execution_count": 104,
     "metadata": {},
     "output_type": "execute_result"
    },
    {
     "data": {
      "image/png": "[encoded data removed]",
      "text/plain": [
       "<Figure size 432x288 with 1 Axes>"
      ]
     },
     "metadata": {
      "needs_background": "light"
     },
     "output_type": "display_data"
    }
   ],
   "source": [
    "df2.plot.scatter(x=\"ageRange\", y=\"travel_time\")"
   ]
  },
  {
   "cell_type": "code",
   "execution_count": 105,
   "id": "11757d39",
   "metadata": {},
   "outputs": [],
   "source": [
    "#1 Contar cada tipo\n",
    "df3 = df.gdf.count()roupBy('ageRange').sum('travel_time')"
   ]
  },
  {
   "cell_type": "code",
   "execution_count": 106,
   "id": "4f288dec",
   "metadata": {},
   "outputs": [
    {
     "name": "stdout",
     "output_type": "stream",
     "text": [
      "+--------+----------------+\n",
      "|ageRange|sum(travel_time)|\n",
      "+--------+----------------+\n",
      "|       0|          465023|\n",
      "|       6|            4914|\n",
      "|       5|          103866|\n",
      "|       1|           20765|\n",
      "|       3|           62021|\n",
      "|       2|            8102|\n",
      "|       4|          239544|\n",
      "+--------+----------------+\n",
      "\n"
     ]
    }
   ],
   "source": [
    "df3.show()"
   ]
  },
  {
   "cell_type": "code",
   "execution_count": 107,
   "id": "19513615",
   "metadata": {},
   "outputs": [],
   "source": [
    "df3 = df3.orderBy('ageRange')"
   ]
  },
  {
   "cell_type": "code",
   "execution_count": 108,
   "id": "4890704e",
   "metadata": {},
   "outputs": [
    {
     "data": {
      "text/plain": [
       "['ageRange', 'sum(travel_time)']"
      ]
     },
     "execution_count": 108,
     "metadata": {},
     "output_type": "execute_result"
    }
   ],
   "source": [
    "df3.columns"
   ]
  },
  {
   "cell_type": "code",
   "execution_count": 109,
   "id": "058a60a6",
   "metadata": {},
   "outputs": [
    {
     "name": "stdout",
     "output_type": "stream",
     "text": [
      "+--------+----------------+\n",
      "|ageRange|sum(travel_time)|\n",
      "+--------+----------------+\n",
      "|       0|          465023|\n",
      "|       1|           20765|\n",
      "|       2|            8102|\n",
      "|       3|           62021|\n",
      "|       4|          239544|\n",
      "|       5|          103866|\n",
      "|       6|            4914|\n",
      "+--------+----------------+\n",
      "\n"
     ]
    }
   ],
   "source": [
    "df3.show()"
   ]
  },
  {
   "cell_type": "code",
   "execution_count": 110,
   "id": "2d090d01",
   "metadata": {},
   "outputs": [
    {
     "data": {
      "text/plain": [
       "<AxesSubplot:ylabel='sum(travel_time)'>"
      ]
     },
     "execution_count": 110,
     "metadata": {},
     "output_type": "execute_result"
    },
    {
     "data": {
      "image/png": "[encoded data removed]",
      "text/plain": [
       "<Figure size 432x288 with 1 Axes>"
      ]
     },
     "metadata": {},
     "output_type": "display_data"
    }
   ],
   "source": [
    "df3.toPandas().plot.pie(y='sum(travel_time)')"
   ]
  },
  {
   "cell_type": "code",
   "execution_count": 113,
   "id": "8b69aba9",
   "metadata": {},
   "outputs": [
    {
     "data": {
      "text/plain": [
       "<AxesSubplot:xlabel='ageRange'>"
      ]
     },
     "execution_count": 113,
     "metadata": {},
     "output_type": "execute_result"
    },
    {
     "data": {
      "image/png": "[encoded data removed]",
      "text/plain": [
       "<Figure size 432x288 with 1 Axes>"
      ]
     },
     "metadata": {
      "needs_background": "light"
     },
     "output_type": "display_data"
    }
   ],
   "source": [
    "# quitamos la fila 0 que es la que tiene rangos de edades desconocidas, por eso no nos interesa\n",
    "df3.toPandas().drop(0).plot.bar(x='ageRange', y='sum(travel_time)', legend=False)"
   ]
  },
  {
   "cell_type": "code",
   "execution_count": null,
   "id": "aef3b5a7",
   "metadata": {},
   "outputs": [],
   "source": []
  },
  {
   "cell_type": "code",
   "execution_count": null,
   "id": "9c586c9f",
   "metadata": {},
   "outputs": [],
   "source": []
  },
  {
   "cell_type": "code",
   "execution_count": null,
   "id": "12a2c55a",
   "metadata": {},
   "outputs": [],
   "source": []
  },
  {
   "cell_type": "code",
   "execution_count": null,
   "id": "2de25c79",
   "metadata": {},
   "outputs": [],
   "source": []
  }
 ],
 "metadata": {
  "kernelspec": {
   "display_name": "Python 3 (ipykernel)",
   "language": "python",
   "name": "python3"
  },
  "language_info": {
   "codemirror_mode": {
    "name": "ipython",
    "version": 3
   },
   "file_extension": ".py",
   "mimetype": "text/x-python",
   "name": "python",
   "nbconvert_exporter": "python",
   "pygments_lexer": "ipython3",
   "version": "3.10.6"
  }
 },
 "nbformat": 4,
 "nbformat_minor": 5
}
