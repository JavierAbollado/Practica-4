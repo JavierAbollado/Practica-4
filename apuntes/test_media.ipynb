{
 "cells": [
  {
   "cell_type": "code",
   "execution_count": 67,
   "id": "e186d751",
   "metadata": {},
   "outputs": [],
   "source": [
    "from pyspark.sql import SparkSession\n",
    "from pyspark.sql.types import IntegerType\n",
    "from pyspark.sql.functions import udf\n",
    "from pyspark.sql.functions import col"
   ]
  },
  {
   "cell_type": "code",
   "execution_count": 68,
   "id": "76e12d76",
   "metadata": {},
   "outputs": [],
   "source": [
    "spark = SparkSession.builder.getOrCreate()"
   ]
  },
  {
   "cell_type": "code",
   "execution_count": 69,
   "id": "5d10c49b",
   "metadata": {},
   "outputs": [
    {
     "data": {
      "text/plain": [
       "['_id',\n",
       " 'ageRange',\n",
       " 'idplug_base',\n",
       " 'idplug_station',\n",
       " 'idunplug_base',\n",
       " 'idunplug_station',\n",
       " 'travel_time',\n",
       " 'unplug_hourTime',\n",
       " 'user_day_code',\n",
       " 'user_type',\n",
       " 'zip_code']"
      ]
     },
     "execution_count": 69,
     "metadata": {},
     "output_type": "execute_result"
    }
   ],
   "source": [
    "data_path = \"datos/sample_10e3.json\"\n",
    "df = spark.read.json(data_path)\n",
    "df.columns"
   ]
  },
  {
   "cell_type": "markdown",
   "id": "2bd882dd",
   "metadata": {},
   "source": [
    "### Uso medio\n",
    "\n",
    "Voy a hacer la comparativa de tiempo de uso por segmentos, comparando el número de individuos que superan la media en cada grupo, esto esta sesgado por si un grupo lo usa más, para corregirlo lo podemos hacer por porcentajes."
   ]
  },
  {
   "cell_type": "code",
   "execution_count": 70,
   "id": "169c70ac",
   "metadata": {},
   "outputs": [
    {
     "name": "stdout",
     "output_type": "stream",
     "text": [
      "+--------+-----+\n",
      "|ageRange|count|\n",
      "+--------+-----+\n",
      "|       0|  491|\n",
      "|       1|   19|\n",
      "|       2|   12|\n",
      "|       3|   75|\n",
      "|       4|  267|\n",
      "|       5|  131|\n",
      "|       6|    5|\n",
      "+--------+-----+\n",
      "\n"
     ]
    }
   ],
   "source": [
    "df_1 = df.groupby('ageRange').count().orderBy('ageRange')\n",
    "df_1.show()"
   ]
  },
  {
   "cell_type": "markdown",
   "id": "16704919",
   "metadata": {},
   "source": [
    "Problema -> La mayor parte de la gente esta en grupo 0, desconocemos su edad."
   ]
  },
  {
   "cell_type": "code",
   "execution_count": 71,
   "id": "8e0a23d7",
   "metadata": {},
   "outputs": [
    {
     "name": "stdout",
     "output_type": "stream",
     "text": [
      "+-----------+\n",
      "|travel_time|\n",
      "+-----------+\n",
      "|        219|\n",
      "|        359|\n",
      "|        375|\n",
      "|        264|\n",
      "|        367|\n",
      "+-----------+\n",
      "only showing top 5 rows\n",
      "\n"
     ]
    }
   ],
   "source": [
    "df_media     = df.select('travel_time')\n",
    "df_media.show(5)"
   ]
  },
  {
   "cell_type": "code",
   "execution_count": 72,
   "id": "c26fe18a",
   "metadata": {},
   "outputs": [],
   "source": [
    "elementos    = df_media.count()\n",
    "suma         = df_media.groupBy().sum().collect()[0][0]\n",
    "average      = suma//elementos"
   ]
  },
  {
   "cell_type": "code",
   "execution_count": 73,
   "id": "9f524ac0",
   "metadata": {},
   "outputs": [
    {
     "data": {
      "text/plain": [
       "904"
      ]
     },
     "execution_count": 73,
     "metadata": {},
     "output_type": "execute_result"
    }
   ],
   "source": [
    "average\n",
    "# Un poco alto no?"
   ]
  },
  {
   "cell_type": "code",
   "execution_count": 74,
   "id": "2b47980e",
   "metadata": {
    "scrolled": true
   },
   "outputs": [
    {
     "name": "stdout",
     "output_type": "stream",
     "text": [
      "+--------+-----------+\n",
      "|ageRange|travel_time|\n",
      "+--------+-----------+\n",
      "|       0|        219|\n",
      "|       4|        359|\n",
      "|       4|        375|\n",
      "|       5|        264|\n",
      "|       4|        367|\n",
      "+--------+-----------+\n",
      "only showing top 5 rows\n",
      "\n"
     ]
    }
   ],
   "source": [
    "df_3    = df.select('ageRange', 'travel_time')\n",
    "df_3.show(5)"
   ]
  },
  {
   "cell_type": "code",
   "execution_count": 77,
   "id": "8bba2c0e",
   "metadata": {},
   "outputs": [],
   "source": [
    "udf_resta_media = udf(lambda x: x - average, IntegerType())\n",
    "df_4 = df_3.withColumn('travel_time', udf_resta_media('travel_time'))\n"
   ]
  },
  {
   "cell_type": "code",
   "execution_count": 79,
   "id": "148f23ee",
   "metadata": {},
   "outputs": [
    {
     "name": "stdout",
     "output_type": "stream",
     "text": [
      "+--------+-----------+\n",
      "|ageRange|travel_time|\n",
      "+--------+-----------+\n",
      "|       0|       -685|\n",
      "|       4|       -545|\n",
      "|       4|       -529|\n",
      "|       5|       -640|\n",
      "|       4|       -537|\n",
      "+--------+-----------+\n",
      "only showing top 5 rows\n",
      "\n"
     ]
    }
   ],
   "source": [
    "df_4.show(5)"
   ]
  },
  {
   "cell_type": "code",
   "execution_count": 81,
   "id": "9e93382b",
   "metadata": {},
   "outputs": [
    {
     "name": "stdout",
     "output_type": "stream",
     "text": [
      "+--------+-----------+\n",
      "|ageRange|travel_time|\n",
      "+--------+-----------+\n",
      "|       0|         83|\n",
      "|       4|        142|\n",
      "|       4|          1|\n",
      "|       5|        108|\n",
      "|       6|        132|\n",
      "+--------+-----------+\n",
      "only showing top 5 rows\n",
      "\n"
     ]
    }
   ],
   "source": [
    "df_4 = df_4.filter(col('travel_time') > 0)\n",
    "df_4.show(5)"
   ]
  },
  {
   "cell_type": "code",
   "execution_count": 84,
   "id": "dfe98f73",
   "metadata": {},
   "outputs": [
    {
     "name": "stdout",
     "output_type": "stream",
     "text": [
      "+--------+-----+\n",
      "|ageRange|count|\n",
      "+--------+-----+\n",
      "|       0|  172|\n",
      "|       1|   13|\n",
      "|       2|    4|\n",
      "|       3|   20|\n",
      "|       4|   91|\n",
      "|       5|   45|\n",
      "|       6|    4|\n",
      "+--------+-----+\n",
      "\n"
     ]
    }
   ],
   "source": [
    "df_resultado = df_4.groupby('ageRange').count().orderBy('ageRange')\n",
    "df_resultado.show()"
   ]
  },
  {
   "cell_type": "markdown",
   "id": "058d6f9a",
   "metadata": {},
   "source": [
    "Falta ajustarlo al porcentaje del tamaño del grupo"
   ]
  }
 ],
 "metadata": {
  "kernelspec": {
   "display_name": "Python 3 (ipykernel)",
   "language": "python",
   "name": "python3"
  },
  "language_info": {
   "codemirror_mode": {
    "name": "ipython",
    "version": 3
   },
   "file_extension": ".py",
   "mimetype": "text/x-python",
   "name": "python",
   "nbconvert_exporter": "python",
   "pygments_lexer": "ipython3",
   "version": "3.10.9"
  }
 },
 "nbformat": 4,
 "nbformat_minor": 5
}
