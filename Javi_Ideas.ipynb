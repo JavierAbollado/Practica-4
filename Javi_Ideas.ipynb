{
 "cells": [
  {
   "cell_type": "code",
   "execution_count": 2,
   "id": "b70a12b2",
   "metadata": {},
   "outputs": [
    {
     "name": "stdout",
     "output_type": "stream",
     "text": [
      "Defaulting to user installation because normal site-packages is not writeable\n",
      "Collecting pandas\n",
      "  Downloading pandas-2.0.1-cp310-cp310-manylinux_2_17_x86_64.manylinux2014_x86_64.whl (12.3 MB)\n",
      "\u001b[2K     \u001b[38;2;114;156;31m━━━━━━━━━━━━━━━━━━━━━━━━━━━━━━━━━━━━━━━━\u001b[0m \u001b[32m12.3/12.3 MB\u001b[0m \u001b[31m38.6 MB/s\u001b[0m eta \u001b[36m0:00:00\u001b[0mm eta \u001b[36m0:00:01\u001b[0m36m0:00:01\u001b[0m\n",
      "\u001b[?25hCollecting tzdata>=2022.1\n",
      "  Downloading tzdata-2023.3-py2.py3-none-any.whl (341 kB)\n",
      "\u001b[2K     \u001b[38;2;114;156;31m━━━━━━━━━━━━━━━━━━━━━━━━━━━━━━━━━━━━━━━\u001b[0m \u001b[32m341.8/341.8 KB\u001b[0m \u001b[31m7.4 MB/s\u001b[0m eta \u001b[36m0:00:00\u001b[0mm eta \u001b[36m0:00:01\u001b[0m\n",
      "\u001b[?25hRequirement already satisfied: numpy>=1.21.0 in /usr/local/lib/python3.10/dist-packages (from pandas) (1.22.3)\n",
      "Requirement already satisfied: pytz>=2020.1 in /usr/lib/python3/dist-packages (from pandas) (2022.1)\n",
      "Requirement already satisfied: python-dateutil>=2.8.2 in /usr/local/lib/python3.10/dist-packages (from pandas) (2.8.2)\n",
      "Requirement already satisfied: six>=1.5 in /usr/lib/python3/dist-packages (from python-dateutil>=2.8.2->pandas) (1.16.0)\n",
      "Installing collected packages: tzdata, pandas\n",
      "Successfully installed pandas-2.0.1 tzdata-2023.3\n"
     ]
    }
   ],
   "source": [
    "# descargar librerias necesarias\n",
    "!pip install pandas"
   ]
  },
  {
   "cell_type": "markdown",
   "id": "9a6548a3",
   "metadata": {},
   "source": [
    "### Ejecutar celda para seguir el notebook:"
   ]
  },
  {
   "cell_type": "code",
   "execution_count": 1,
   "id": "124b5451",
   "metadata": {},
   "outputs": [
    {
     "name": "stderr",
     "output_type": "stream",
     "text": [
      "23/05/25 11:02:36 WARN Utils: Your hostname, pclab032 resolves to a loopback address: 127.0.1.1; using 147.96.132.249 instead (on interface eno1)\n",
      "23/05/25 11:02:36 WARN Utils: Set SPARK_LOCAL_IP if you need to bind to another address\n",
      "WARNING: An illegal reflective access operation has occurred\n",
      "WARNING: Illegal reflective access by org.apache.spark.unsafe.Platform (file:/usr/local/lib/python3.10/dist-packages/pyspark/jars/spark-unsafe_2.12-3.2.1.jar) to constructor java.nio.DirectByteBuffer(long,int)\n",
      "WARNING: Please consider reporting this to the maintainers of org.apache.spark.unsafe.Platform\n",
      "WARNING: Use --illegal-access=warn to enable warnings of further illegal reflective access operations\n",
      "WARNING: All illegal access operations will be denied in a future release\n",
      "Using Spark's default log4j profile: org/apache/spark/log4j-defaults.properties\n",
      "Setting default log level to \"WARN\".\n",
      "To adjust logging level use sc.setLogLevel(newLevel). For SparkR, use setLogLevel(newLevel).\n",
      "23/05/25 11:02:38 WARN NativeCodeLoader: Unable to load native-hadoop library for your platform... using builtin-java classes where applicable\n"
     ]
    }
   ],
   "source": [
    "from pyspark.sql import SparkSession\n",
    "\n",
    "from pyspark.sql.functions import dayofweek, dayofmonth, weekofyear, month, year\n",
    "\n",
    "import matplotlib.pyplot as plt\n",
    "import pandas as pd\n",
    "\n",
    "\n",
    "spark = SparkSession.builder.getOrCreate()\n",
    "\n",
    "data_path = \"datos/sample_10e3.json\"\n",
    "df = spark.read.json(data_path)"
   ]
  },
  {
   "cell_type": "code",
   "execution_count": 9,
   "id": "c7d531c0",
   "metadata": {},
   "outputs": [
    {
     "data": {
      "text/plain": [
       "['_id',\n",
       " 'ageRange',\n",
       " 'idplug_base',\n",
       " 'idplug_station',\n",
       " 'idunplug_base',\n",
       " 'idunplug_station',\n",
       " 'travel_time',\n",
       " 'unplug_hourTime',\n",
       " 'user_day_code',\n",
       " 'user_type',\n",
       " 'zip_code']"
      ]
     },
     "execution_count": 9,
     "metadata": {},
     "output_type": "execute_result"
    }
   ],
   "source": [
    "df.columns"
   ]
  },
  {
   "cell_type": "markdown",
   "id": "95477c4b",
   "metadata": {},
   "source": [
    "# Idea 1. Pruebas para el conteo de cuantas bicis se desenganchan de un sitio vs cuántas se enganchan"
   ]
  },
  {
   "cell_type": "markdown",
   "id": "26995ab9",
   "metadata": {},
   "source": [
    "Agrupamos los datos por los ids de las estaciones. Un dataframe con los plugs y otro con los un_plugs, y los contamos. Luego los unimos con un join con respecto al id. Así podemos ver comparar en cada estación cuantos ha habido de cada."
   ]
  },
  {
   "cell_type": "code",
   "execution_count": 120,
   "id": "e1987b72",
   "metadata": {},
   "outputs": [],
   "source": [
    "df1 = df.groupBy('idunplug_station').count()"
   ]
  },
  {
   "cell_type": "code",
   "execution_count": 121,
   "id": "b571ebe4",
   "metadata": {},
   "outputs": [],
   "source": [
    "df2 = df.groupBy('idplug_station').count()"
   ]
  },
  {
   "cell_type": "code",
   "execution_count": 122,
   "id": "b543feab",
   "metadata": {},
   "outputs": [],
   "source": [
    "# renombrar las columnas para unirlas\n",
    "df1 = df1.withColumnRenamed('idunplug_station', 'id').withColumnRenamed('count', 'n_unplugs')\n",
    "df2 = df2.withColumnRenamed('idplug_station', 'id').withColumnRenamed('count', 'n_plugs')"
   ]
  },
  {
   "cell_type": "code",
   "execution_count": 123,
   "id": "697a58cc",
   "metadata": {},
   "outputs": [],
   "source": [
    "df3 = df1.join(df2, on='id')"
   ]
  },
  {
   "cell_type": "code",
   "execution_count": 124,
   "id": "1980dd4d",
   "metadata": {},
   "outputs": [
    {
     "data": {
      "text/plain": [
       "DataFrame[id: bigint, n_unplugs: bigint, n_plugs: bigint]"
      ]
     },
     "execution_count": 124,
     "metadata": {},
     "output_type": "execute_result"
    }
   ],
   "source": [
    "df3"
   ]
  },
  {
   "cell_type": "code",
   "execution_count": 125,
   "id": "42d15243",
   "metadata": {},
   "outputs": [
    {
     "name": "stdout",
     "output_type": "stream",
     "text": [
      "+---+---------+-------+\n",
      "| id|n_unplugs|n_plugs|\n",
      "+---+---------+-------+\n",
      "| 26|       12|     10|\n",
      "| 29|        1|      1|\n",
      "| 65|        8|      7|\n",
      "| 54|        8|      8|\n",
      "| 19|       17|      5|\n",
      "|155|        2|     17|\n",
      "|113|        4|      1|\n",
      "|167|        9|      2|\n",
      "|130|        3|      1|\n",
      "| 77|        3|     13|\n",
      "|  7|        8|      2|\n",
      "| 34|        1|      4|\n",
      "|126|        3|     10|\n",
      "| 94|        3|      2|\n",
      "|149|       10|     21|\n",
      "| 50|        4|      3|\n",
      "|190|        2|      5|\n",
      "|110|        7|      1|\n",
      "|136|        9|     22|\n",
      "| 57|       34|     27|\n",
      "+---+---------+-------+\n",
      "only showing top 20 rows\n",
      "\n"
     ]
    }
   ],
   "source": [
    "df3.show()"
   ]
  },
  {
   "cell_type": "markdown",
   "id": "c935774e",
   "metadata": {},
   "source": [
    " - **limit(10)**: Limitar a solo 10 estaciones (pàra que se vea en el plot)\n",
    " - **toPandas()**: para pasarlo a un pandas dataframe y poder plotear"
   ]
  },
  {
   "cell_type": "code",
   "execution_count": 128,
   "id": "6fb3d507",
   "metadata": {},
   "outputs": [
    {
     "data": {
      "text/plain": [
       "<AxesSubplot:title={'center':'Visualización de la demanda de las estaciones'}, xlabel='id'>"
      ]
     },
     "execution_count": 128,
     "metadata": {},
     "output_type": "execute_result"
    },
    {
     "data": {
      "image/png": "[encoded data removed]",
      "text/plain": [
       "<Figure size 432x288 with 1 Axes>"
      ]
     },
     "metadata": {
      "needs_background": "light"
     },
     "output_type": "display_data"
    }
   ],
   "source": [
    "df3.limit(10).toPandas().plot.bar(\n",
    "    x='id', \n",
    "    y=['n_unplugs','n_plugs'], \n",
    "    color=['red','green'],\n",
    "    title=\"Visualización de la demanda de las estaciones\"\n",
    ")"
   ]
  },
  {
   "cell_type": "markdown",
   "id": "3b740735",
   "metadata": {},
   "source": [
    "Vamos ordenar ahora por la resta de ambas demandas. Así podemos ver qué estaciones quitan más bicis y luego no vuelven."
   ]
  },
  {
   "cell_type": "code",
   "execution_count": 157,
   "id": "ef6a925c",
   "metadata": {},
   "outputs": [
    {
     "data": {
      "text/plain": [
       "1000"
      ]
     },
     "execution_count": 157,
     "metadata": {},
     "output_type": "execute_result"
    }
   ],
   "source": [
    "df.count()"
   ]
  },
  {
   "cell_type": "markdown",
   "id": "d7518304",
   "metadata": {},
   "source": [
    "# Idea 2. Los jovenes usan más la bici?"
   ]
  },
  {
   "cell_type": "code",
   "execution_count": 81,
   "id": "45f0fc46",
   "metadata": {},
   "outputs": [],
   "source": [
    "tiempo_total = df.groupBy('ageRange')\\\n",
    "                                .sum('travel_time')\\\n",
    "                                .withColumnRenamed(\"sum(travel_time)\", \"total\")\\\n",
    "                                .orderBy('ageRange')\n",
    "\n",
    "tiempo_medio = df.groupBy('ageRange')\\\n",
    "                                .mean('travel_time')\\\n",
    "                                .withColumnRenamed(\"avg(travel_time)\", \"mean\")\\\n",
    "                                .orderBy('ageRange')"
   ]
  },
  {
   "cell_type": "code",
   "execution_count": 88,
   "id": "c1279ebf",
   "metadata": {},
   "outputs": [
    {
     "name": "stdout",
     "output_type": "stream",
     "text": [
      "+--------+------+------------------+\n",
      "|ageRange| total|              mean|\n",
      "+--------+------+------------------+\n",
      "|       0|465023| 947.0936863543789|\n",
      "|       1| 20765|1092.8947368421052|\n",
      "|       2|  8102| 675.1666666666666|\n",
      "|       3| 62021| 826.9466666666667|\n",
      "|       4|239544| 897.1685393258427|\n",
      "|       5|103866| 792.8702290076336|\n",
      "|       6|  4914|             982.8|\n",
      "+--------+------+------------------+\n",
      "\n"
     ]
    }
   ],
   "source": [
    "tiempos = tiempo_total.join(tiempo_medio, on=\"ageRange\").orderBy(\"ageRange\")\n",
    "tiempos.show()"
   ]
  },
  {
   "cell_type": "markdown",
   "id": "93f90521",
   "metadata": {},
   "source": [
    "Tener en cuenta que aquí estoy pasando a pandas un dataframe muy pequeño (pues ya tiene totas las sumas de los muchos valores de grande) así que la operación no es costosa"
   ]
  },
  {
   "cell_type": "code",
   "execution_count": 90,
   "id": "76edacc3",
   "metadata": {},
   "outputs": [
    {
     "data": {
      "text/plain": [
       "<AxesSubplot:title={'center':'Tiempo medio por rango de edades'}, xlabel='ageRange'>"
      ]
     },
     "execution_count": 90,
     "metadata": {},
     "output_type": "execute_result"
    },
    {
     "data": {
      "image/png": "[encoded data removed]",
      "text/plain": [
       "<Figure size 432x288 with 1 Axes>"
      ]
     },
     "metadata": {
      "needs_background": "light"
     },
     "output_type": "display_data"
    },
    {
     "data": {
      "image/png": "[encoded data removed]",
      "text/plain": [
       "<Figure size 432x288 with 1 Axes>"
      ]
     },
     "metadata": {
      "needs_background": "light"
     },
     "output_type": "display_data"
    }
   ],
   "source": [
    "tiempos.toPandas().plot.bar(x=\"ageRange\", y=\"total\", color=\"blue\", title=\"Tiempo total por rango de edades\")\n",
    "tiempos.toPandas().plot.bar(x=\"ageRange\", y=\"mean\", color=\"gray\", title=\"Tiempo medio por rango de edades\")"
   ]
  },
  {
   "cell_type": "markdown",
   "id": "4ea8e94c",
   "metadata": {},
   "source": [
    "Parece que el tiempo medio de uso es muy parecido, pero el conjunto de datos de prueba es muy pequeño por lo que no es concluyente. Por otro lado, en su totalidad sí que se aprecia gran diferencia en los timepos de uso. Parece que el rango de edades 4 lo usa mucho más que los demás."
   ]
  },
  {
   "cell_type": "code",
   "execution_count": null,
   "id": "90e38631",
   "metadata": {},
   "outputs": [],
   "source": []
  },
  {
   "cell_type": "code",
   "execution_count": null,
   "id": "175ed981",
   "metadata": {},
   "outputs": [],
   "source": []
  },
  {
   "cell_type": "markdown",
   "id": "9b7a5c87",
   "metadata": {},
   "source": [
    "# Idea 3. Demanda por zonas.\n",
    "\n",
    "En relación a la separación por zonas anteior (clustering de las estaciones). Podemos observar individualmente la actividad de cada uno. Por ejemplo, guardar cuantas bicis salen de esa zona al día y además ver a dónde van. Para ello creamos dos nuevas columnas (para discretizar), donde guardamos los plugs y unplugs pero en vez de por estaciones, por grupos de estaciones:\n",
    "\n",
    " - 'idunplug_station_group'\n",
    " - 'idplug_station_group'\n",
    "\n",
    "luego para hacer el estudio completo agrupamos los datos por dias, es decir, guardamos como una tabla con los datos (salida desde la base hasta luegares de destino) de todos los lunes, martes,... Así podremos ver que días se separan más de la media. Es decir, si los sabados y domingos en un lado tiene una demanda mucho menor de lo habitual en una zona, y por el contrario en otra sube. Ahí es donde buscamos hacer los cambios. Para esto nuevo tendremos que crear un columna, 'day', con el dato: día de la semana (se puede sacar con un lambda de la parte de la fecha)."
   ]
  },
  {
   "cell_type": "code",
   "execution_count": 19,
   "id": "969bc574",
   "metadata": {},
   "outputs": [
    {
     "data": {
      "text/plain": [
       "['_id',\n",
       " 'ageRange',\n",
       " 'idplug_base',\n",
       " 'idplug_station',\n",
       " 'idunplug_base',\n",
       " 'idunplug_station',\n",
       " 'travel_time',\n",
       " 'unplug_hourTime',\n",
       " 'user_day_code',\n",
       " 'user_type',\n",
       " 'zip_code']"
      ]
     },
     "execution_count": 19,
     "metadata": {},
     "output_type": "execute_result"
    }
   ],
   "source": [
    "df.columns"
   ]
  },
  {
   "cell_type": "code",
   "execution_count": 46,
   "id": "7f67b061",
   "metadata": {},
   "outputs": [
    {
     "data": {
      "text/plain": [
       "DataFrame[unplug_hourTime: struct<$date:string>]"
      ]
     },
     "execution_count": 46,
     "metadata": {},
     "output_type": "execute_result"
    }
   ],
   "source": [
    "df.select('unplug_hourTime')"
   ]
  },
  {
   "cell_type": "markdown",
   "id": "cfb680a0",
   "metadata": {},
   "source": [
    "### Pruebas pequeñas con un Pandas Dataframe para ver cómo se añadiría las columnas \"date\" y \"hour\""
   ]
  },
  {
   "cell_type": "code",
   "execution_count": 27,
   "id": "dd391057",
   "metadata": {},
   "outputs": [],
   "source": [
    "df_date = df.select('unplug_hourTime').limit(3).toPandas()"
   ]
  },
  {
   "cell_type": "code",
   "execution_count": 28,
   "id": "11bd1a37",
   "metadata": {},
   "outputs": [
    {
     "data": {
      "text/html": [
       "<div>\n",
       "<style scoped>\n",
       "    .dataframe tbody tr th:only-of-type {\n",
       "        vertical-align: middle;\n",
       "    }\n",
       "\n",
       "    .dataframe tbody tr th {\n",
       "        vertical-align: top;\n",
       "    }\n",
       "\n",
       "    .dataframe thead th {\n",
       "        text-align: right;\n",
       "    }\n",
       "</style>\n",
       "<table border=\"1\" class=\"dataframe\">\n",
       "  <thead>\n",
       "    <tr style=\"text-align: right;\">\n",
       "      <th></th>\n",
       "      <th>unplug_hourTime</th>\n",
       "    </tr>\n",
       "  </thead>\n",
       "  <tbody>\n",
       "    <tr>\n",
       "      <th>0</th>\n",
       "      <td>(2019-06-01T00:00:00.000+0200,)</td>\n",
       "    </tr>\n",
       "    <tr>\n",
       "      <th>1</th>\n",
       "      <td>(2019-06-01T00:00:00.000+0200,)</td>\n",
       "    </tr>\n",
       "    <tr>\n",
       "      <th>2</th>\n",
       "      <td>(2019-06-01T00:00:00.000+0200,)</td>\n",
       "    </tr>\n",
       "  </tbody>\n",
       "</table>\n",
       "</div>"
      ],
      "text/plain": [
       "                   unplug_hourTime\n",
       "0  (2019-06-01T00:00:00.000+0200,)\n",
       "1  (2019-06-01T00:00:00.000+0200,)\n",
       "2  (2019-06-01T00:00:00.000+0200,)"
      ]
     },
     "execution_count": 28,
     "metadata": {},
     "output_type": "execute_result"
    }
   ],
   "source": [
    "df_date"
   ]
  },
  {
   "cell_type": "code",
   "execution_count": 39,
   "id": "6b3c8e9a",
   "metadata": {},
   "outputs": [],
   "source": [
    "df_date['day'] = df_date['unplug_hourTime'].apply(lambda x : x[0].split(\"T\")[0])\n",
    "df_date['hour'] = df_date['unplug_hourTime'].apply(lambda x : x[0].split(\"T\")[1])"
   ]
  },
  {
   "cell_type": "code",
   "execution_count": 40,
   "id": "a4036a06",
   "metadata": {},
   "outputs": [
    {
     "data": {
      "text/html": [
       "<div>\n",
       "<style scoped>\n",
       "    .dataframe tbody tr th:only-of-type {\n",
       "        vertical-align: middle;\n",
       "    }\n",
       "\n",
       "    .dataframe tbody tr th {\n",
       "        vertical-align: top;\n",
       "    }\n",
       "\n",
       "    .dataframe thead th {\n",
       "        text-align: right;\n",
       "    }\n",
       "</style>\n",
       "<table border=\"1\" class=\"dataframe\">\n",
       "  <thead>\n",
       "    <tr style=\"text-align: right;\">\n",
       "      <th></th>\n",
       "      <th>unplug_hourTime</th>\n",
       "      <th>day</th>\n",
       "      <th>hour</th>\n",
       "    </tr>\n",
       "  </thead>\n",
       "  <tbody>\n",
       "    <tr>\n",
       "      <th>0</th>\n",
       "      <td>(2019-06-01T00:00:00.000+0200,)</td>\n",
       "      <td>2019-06-01</td>\n",
       "      <td>00:00:00.000+0200</td>\n",
       "    </tr>\n",
       "    <tr>\n",
       "      <th>1</th>\n",
       "      <td>(2019-06-01T00:00:00.000+0200,)</td>\n",
       "      <td>2019-06-01</td>\n",
       "      <td>00:00:00.000+0200</td>\n",
       "    </tr>\n",
       "    <tr>\n",
       "      <th>2</th>\n",
       "      <td>(2019-06-01T00:00:00.000+0200,)</td>\n",
       "      <td>2019-06-01</td>\n",
       "      <td>00:00:00.000+0200</td>\n",
       "    </tr>\n",
       "  </tbody>\n",
       "</table>\n",
       "</div>"
      ],
      "text/plain": [
       "                   unplug_hourTime         day               hour\n",
       "0  (2019-06-01T00:00:00.000+0200,)  2019-06-01  00:00:00.000+0200\n",
       "1  (2019-06-01T00:00:00.000+0200,)  2019-06-01  00:00:00.000+0200\n",
       "2  (2019-06-01T00:00:00.000+0200,)  2019-06-01  00:00:00.000+0200"
      ]
     },
     "execution_count": 40,
     "metadata": {},
     "output_type": "execute_result"
    }
   ],
   "source": [
    "df_date"
   ]
  },
  {
   "cell_type": "markdown",
   "id": "3d5b0bf1",
   "metadata": {},
   "source": [
    "### Probar con un SQL Dataframe"
   ]
  },
  {
   "cell_type": "code",
   "execution_count": 9,
   "id": "a21e5d39",
   "metadata": {},
   "outputs": [],
   "source": [
    "df_date2 = df.select('unplug_hourTime').limit(3)"
   ]
  },
  {
   "cell_type": "markdown",
   "id": "1e338cc2",
   "metadata": {},
   "source": [
    "Parece que el dato *date* está encriptado en un tipo \n",
    "\n",
    "struct<$date:string> \n",
    "\n",
    "por lo que primero tenemos que acceder al primer (y único) elemento $date, con la función \n",
    "\n",
    ".getItem(\"$date\") \n",
    "\n",
    "y luego ya de ahí podemos consiguir el month, day o lo que sea con las funciones de **pyspark.sql.functions**"
   ]
  },
  {
   "cell_type": "code",
   "execution_count": 13,
   "id": "7bcf303d",
   "metadata": {},
   "outputs": [],
   "source": [
    "from pyspark.sql.functions import dayofmonth, month, year"
   ]
  },
  {
   "cell_type": "code",
   "execution_count": 11,
   "id": "a11d8097",
   "metadata": {},
   "outputs": [
    {
     "name": "stdout",
     "output_type": "stream",
     "text": [
      "+--------------------+---+-----+----+\n",
      "|     unplug_hourTime|day|month|year|\n",
      "+--------------------+---+-----+----+\n",
      "|{2019-06-01T00:00...|  1|    6|2019|\n",
      "|{2019-06-01T00:00...|  1|    6|2019|\n",
      "|{2019-06-01T00:00...|  1|    6|2019|\n",
      "+--------------------+---+-----+----+\n",
      "\n"
     ]
    }
   ],
   "source": [
    "df_date2.withColumn(\"day\", dayofmonth(df_date2.unplug_hourTime.getItem(\"$date\")))\\\n",
    "            .withColumn(\"month\", month(df_date2.unplug_hourTime.getItem(\"$date\")))\\\n",
    "            .withColumn(\"year\", year(df_date2.unplug_hourTime.getItem(\"$date\"))).show()"
   ]
  },
  {
   "cell_type": "markdown",
   "id": "5c8c0ddd",
   "metadata": {},
   "source": [
    "genial! parece que podemos conseguir fácilmente esos datos sin necesidad de hacer funciones en strings"
   ]
  },
  {
   "cell_type": "code",
   "execution_count": 12,
   "id": "f3f7c2e9",
   "metadata": {},
   "outputs": [
    {
     "data": {
      "text/plain": [
       "DataFrame[unplug_hourTime: struct<$date:string>]"
      ]
     },
     "execution_count": 12,
     "metadata": {},
     "output_type": "execute_result"
    }
   ],
   "source": [
    "df_date2"
   ]
  },
  {
   "cell_type": "markdown",
   "id": "ab3a35ec",
   "metadata": {},
   "source": [
    "podemos ver que **withColumn** no hace inplace en el DataFrame, por lo que tendremos que asignarlo a uno"
   ]
  },
  {
   "cell_type": "markdown",
   "id": "c79dba7c",
   "metadata": {},
   "source": [
    "### Pruebas con clustering y pyspark"
   ]
  },
  {
   "cell_type": "markdown",
   "id": "fafcdd4b",
   "metadata": {},
   "source": [
    "Antes tendríamos que pasar las estaciones a tuplas en el mapa. Luego esos datos los ponemos en la columna 'standardized' y así ya compilamos (algo parecido al) algoritmo siguiente. Que simplemente nos devuelve grupos de estaciones. Podemos ver un ejemplo de Clustering y KMeans en:\n",
    "\n",
    "https://towardsdatascience.com/k-means-clustering-using-pyspark-on-big-data-6214beacdc8b"
   ]
  },
  {
   "cell_type": "code",
   "execution_count": null,
   "id": "4cbed6b7",
   "metadata": {},
   "outputs": [],
   "source": [
    "from pyspark.ml.clustering import KMeans\n",
    "from pyspark.ml.evaluation import ClusteringEvaluator\n",
    "\n",
    "silhouette_score = []\n",
    "\n",
    "evaluator = ClusteringEvaluator(predictionCol='prediction', featuresCol='standardized', \\\n",
    "                                metricName='silhouette', distanceMeasure='squaredEuclidean')\n",
    "for i in range(2,10):\n",
    "    \n",
    "    KMeans_algo = KMeans(featuresCol='standardized', k=i)\n",
    "    \n",
    "    KMeans_fit = KMeans_algo.fit(data_scale_output)\n",
    "    \n",
    "    output = KMeans_fit.transform(data_scale_output)\n",
    "    \n",
    "    \n",
    "    \n",
    "    score = evaluator.evaluate(output)\n",
    "    \n",
    "    silhouette_score.append(score)\n",
    "    \n",
    "    print(\"Silhouette Score:\",score)"
   ]
  },
  {
   "cell_type": "code",
   "execution_count": null,
   "id": "bd42636d",
   "metadata": {},
   "outputs": [],
   "source": [
    "#Visualizing the silhouette scores in a plot\n",
    "\n",
    "fig, ax = plt.subplots(1,1, figsize =(8,6))\n",
    "ax.plot(range(2,10),silhouette_score)\n",
    "ax.set_xlabel(‘k’)\n",
    "ax.set_ylabel(‘cost’)"
   ]
  },
  {
   "cell_type": "markdown",
   "id": "80847c9c",
   "metadata": {},
   "source": [
    "### Vamos a hacer las pruebas sin separación por zonas, teniendo en cuenta solo las estaciones y luego ya vemos si hago lo del clustering\n",
    "\n",
    " - prepocesamiento de las fechas: cambiar la columna 'unplug_hourTime' por los datos separados\n"
   ]
  },
  {
   "cell_type": "code",
   "execution_count": 6,
   "id": "35df1c10",
   "metadata": {},
   "outputs": [],
   "source": [
    "from pyspark.sql.functions import dayofweek, dayofmonth, weekofyear, month, year"
   ]
  },
  {
   "cell_type": "markdown",
   "id": "68bede9c",
   "metadata": {},
   "source": [
    "Creamos las siguientes columnas:\n",
    " - **dayofweek**: para obtener el día de la semana (lunes, martes, ) ya que queremos hacer el estudio sobre esos días.\n",
    " - **weekofyear**: para poder ordenar los días, ya que si solo sabemos que es un viernes, no podremos saber cuál exactamente.\n",
    " - **year**: dato más general para distinguir el estudio por años.\n",
    "        "
   ]
  },
  {
   "cell_type": "code",
   "execution_count": 16,
   "id": "17e51b3c",
   "metadata": {},
   "outputs": [],
   "source": [
    "df2 = df.withColumn(\"dayofweek\", dayofweek(df.unplug_hourTime.getItem(\"$date\")))\\\n",
    "            .withColumn(\"weekofyear\", weekofyear(df.unplug_hourTime.getItem(\"$date\")))\\\n",
    "            .withColumn(\"year\", year(df.unplug_hourTime.getItem(\"$date\")))\\\n",
    "            .drop('unplug_hourTime')"
   ]
  },
  {
   "cell_type": "code",
   "execution_count": 7,
   "id": "b93ea6a8",
   "metadata": {},
   "outputs": [],
   "source": [
    "def preprocess_dates(df):\n",
    "    df2 = df.withColumn(\"dayofweek\", dayofweek(df.unplug_hourTime.getItem(\"$date\")))\\\n",
    "            .withColumn(\"weekofyear\", weekofyear(df.unplug_hourTime.getItem(\"$date\")))\\\n",
    "            .withColumn(\"year\", year(df.unplug_hourTime.getItem(\"$date\")))\\\n",
    "            .drop('unplug_hourTime')\n",
    "    return df2"
   ]
  },
  {
   "cell_type": "code",
   "execution_count": 19,
   "id": "52ddcae7",
   "metadata": {
    "scrolled": true
   },
   "outputs": [
    {
     "ename": "AttributeError",
     "evalue": "'GroupedData' object has no attribute 'groupBy'",
     "output_type": "error",
     "traceback": [
      "\u001b[0;31m---------------------------------------------------------------------------\u001b[0m",
      "\u001b[0;31mAttributeError\u001b[0m                            Traceback (most recent call last)",
      "\u001b[0;32m/tmp/ipykernel_26660/3915222205.py\u001b[0m in \u001b[0;36m<cell line: 1>\u001b[0;34m()\u001b[0m\n\u001b[1;32m      1\u001b[0m \u001b[0mestudio_por_dias_y_zonas\u001b[0m \u001b[0;34m=\u001b[0m \u001b[0mdf\u001b[0m\u001b[0;34m.\u001b[0m\u001b[0mgroupBy\u001b[0m\u001b[0;34m(\u001b[0m\u001b[0;34m'idunplug_station'\u001b[0m\u001b[0;34m)\u001b[0m\u001b[0;31m\\\u001b[0m\u001b[0;34m\u001b[0m\u001b[0;34m\u001b[0m\u001b[0m\n\u001b[0;32m----> 2\u001b[0;31m                                 \u001b[0;34m.\u001b[0m\u001b[0mgroupBy\u001b[0m\u001b[0;34m(\u001b[0m\u001b[0;34m'dayofweek'\u001b[0m\u001b[0;34m)\u001b[0m\u001b[0;31m\\\u001b[0m\u001b[0;34m\u001b[0m\u001b[0;34m\u001b[0m\u001b[0m\n\u001b[0m\u001b[1;32m      3\u001b[0m                                 \u001b[0;34m.\u001b[0m\u001b[0mgroupBy\u001b[0m\u001b[0;34m(\u001b[0m\u001b[0;34m'idplug_station'\u001b[0m\u001b[0;34m)\u001b[0m\u001b[0;31m\\\u001b[0m\u001b[0;34m\u001b[0m\u001b[0;34m\u001b[0m\u001b[0m\n\u001b[1;32m      4\u001b[0m                                 \u001b[0;34m.\u001b[0m\u001b[0mcount\u001b[0m\u001b[0;34m(\u001b[0m\u001b[0;34m)\u001b[0m\u001b[0;34m\u001b[0m\u001b[0;34m\u001b[0m\u001b[0m\n",
      "\u001b[0;31mAttributeError\u001b[0m: 'GroupedData' object has no attribute 'groupBy'"
     ]
    }
   ],
   "source": [
    "estudio_por_dias_y_zonas = df.groupBy('idunplug_station')\\\n",
    "                                .groupBy('dayofweek')\\\n",
    "                                .groupBy('idplug_station')\\\n",
    "                                .count()"
   ]
  },
  {
   "cell_type": "markdown",
   "id": "6e16d600",
   "metadata": {},
   "source": [
    "Parece que no podemos hacer multiples groupBy ..."
   ]
  },
  {
   "cell_type": "markdown",
   "id": "49ec9eed",
   "metadata": {},
   "source": [
    "Sin embargo, podemos hacer un groupBy multiple, que funciona similar a la idea que queremos. Es decir, al hacer el conteo, cada fila tendrá en cuenta el número de apariciones iguales que le hemos posado al groupBy multiple, y de ahí ya nosotros interpretamos."
   ]
  },
  {
   "cell_type": "code",
   "execution_count": 44,
   "id": "a0f8ea7b",
   "metadata": {},
   "outputs": [],
   "source": [
    "df_grouped = df2.groupBy('idunplug_station', 'dayofweek', 'idplug_station').count().orderBy('idunplug_station')"
   ]
  },
  {
   "cell_type": "code",
   "execution_count": 45,
   "id": "f87b664e",
   "metadata": {},
   "outputs": [
    {
     "name": "stdout",
     "output_type": "stream",
     "text": [
      "+----------------+---------+--------------+-----+\n",
      "|idunplug_station|dayofweek|idplug_station|count|\n",
      "+----------------+---------+--------------+-----+\n",
      "|               1|        7|            74|    1|\n",
      "|               1|        7|           106|    1|\n",
      "|               1|        7|           136|    1|\n",
      "|               1|        7|            75|    4|\n",
      "|               1|        7|            50|    1|\n",
      "|               1|        7|            52|    1|\n",
      "|               1|        7|           135|    2|\n",
      "|               1|        7|           105|    1|\n",
      "|               1|        7|           129|    1|\n",
      "|               1|        7|           163|    1|\n",
      "|               1|        7|            90|    1|\n",
      "|               1|        7|            83|    3|\n",
      "|               2|        7|           114|    1|\n",
      "|               2|        7|           170|    1|\n",
      "|               2|        7|            79|    1|\n",
      "|               2|        7|            67|    2|\n",
      "|               2|        7|           149|    1|\n",
      "|               3|        7|           145|    1|\n",
      "|               3|        7|            14|    1|\n",
      "|               3|        7|           136|    1|\n",
      "+----------------+---------+--------------+-----+\n",
      "only showing top 20 rows\n",
      "\n"
     ]
    }
   ],
   "source": [
    "df_grouped.show()"
   ]
  },
  {
   "cell_type": "markdown",
   "id": "34d96594",
   "metadata": {},
   "source": [
    "Podemos observar que la mayoría de conteos son 1! Esto es devido a que estamos dividiendo el dataframe mucho, tenemos que los conteos son mínimos. Por lo que necesitamos muchos más datos para tener resultados razonables."
   ]
  },
  {
   "cell_type": "markdown",
   "id": "f908c76b",
   "metadata": {},
   "source": [
    "### Pruebas con el json grande (de prueba -> tam = 10⁴). Aunque para tampoco llenar la memoria filtraremos por un par de estaciones para ver resultados."
   ]
  },
  {
   "cell_type": "code",
   "execution_count": 13,
   "id": "a1415c7d",
   "metadata": {},
   "outputs": [],
   "source": [
    "data_path = \"datos/sample_10e4.json\""
   ]
  },
  {
   "cell_type": "code",
   "execution_count": 31,
   "id": "781455a8",
   "metadata": {},
   "outputs": [],
   "source": [
    "df4 = spark.read.json(data_path)"
   ]
  },
  {
   "cell_type": "code",
   "execution_count": 79,
   "id": "d9e0c983",
   "metadata": {},
   "outputs": [
    {
     "data": {
      "text/plain": [
       "10000"
      ]
     },
     "execution_count": 79,
     "metadata": {},
     "output_type": "execute_result"
    }
   ],
   "source": [
    "df4.count()"
   ]
  },
  {
   "cell_type": "code",
   "execution_count": 80,
   "id": "04ec6556",
   "metadata": {},
   "outputs": [
    {
     "data": {
      "text/plain": [
       "[Row(idplug_station=163, count=129),\n",
       " Row(idplug_station=129, count=132),\n",
       " Row(idplug_station=43, count=138),\n",
       " Row(idplug_station=57, count=142),\n",
       " Row(idplug_station=135, count=160)]"
      ]
     },
     "execution_count": 80,
     "metadata": {},
     "output_type": "execute_result"
    }
   ],
   "source": [
    "# observamos varias estaciones y cuantos datos tiene cada una para escoger (para las pruebas) \n",
    "# los que más datos tengan\n",
    "df4.groupBy('idplug_station').count().orderBy('count').tail(5)"
   ]
  },
  {
   "cell_type": "code",
   "execution_count": 6,
   "id": "699900d9",
   "metadata": {},
   "outputs": [],
   "source": [
    "df4 = df4.filter(\n",
    "    (df4.idplug_station == 129) | \n",
    "    (df4.idplug_station == 163) | \n",
    "    (df4.idplug_station == 43)  | \n",
    "    (df4.idplug_station == 57)  | \n",
    "    (df4.idplug_station == 135)\n",
    ")"
   ]
  },
  {
   "cell_type": "markdown",
   "id": "f1bd73e0",
   "metadata": {},
   "source": [
    "Comprobamos que hemos seleccionado los ids correctos y observamos con cuántos datos nos hemos quedado"
   ]
  },
  {
   "cell_type": "code",
   "execution_count": 7,
   "id": "a4abeba5",
   "metadata": {},
   "outputs": [
    {
     "name": "stdout",
     "output_type": "stream",
     "text": [
      "+--------------+\n",
      "|idplug_station|\n",
      "+--------------+\n",
      "|            57|\n",
      "|            43|\n",
      "|           163|\n",
      "|           135|\n",
      "|           129|\n",
      "+--------------+\n",
      "\n"
     ]
    }
   ],
   "source": [
    "df4.select('idplug_station').distinct().show()"
   ]
  },
  {
   "cell_type": "code",
   "execution_count": 8,
   "id": "6b604344",
   "metadata": {},
   "outputs": [
    {
     "data": {
      "text/plain": [
       "701"
      ]
     },
     "execution_count": 8,
     "metadata": {},
     "output_type": "execute_result"
    }
   ],
   "source": [
    "df4.count()"
   ]
  },
  {
   "cell_type": "code",
   "execution_count": 15,
   "id": "88be62a4",
   "metadata": {},
   "outputs": [],
   "source": [
    "df4 = preprocess_dates(df4)"
   ]
  },
  {
   "cell_type": "code",
   "execution_count": 16,
   "id": "42d33202",
   "metadata": {},
   "outputs": [],
   "source": [
    "estudio_por_dias_y_zonas = df4.groupBy('idunplug_station', 'dayofweek', 'idplug_station')\\\n",
    "                                                                .count().orderBy('idunplug_station')"
   ]
  },
  {
   "cell_type": "code",
   "execution_count": 19,
   "id": "1f8c78df",
   "metadata": {},
   "outputs": [
    {
     "data": {
      "text/plain": [
       "[Row(idunplug_station=82, dayofweek=7, idplug_station=57, count=2),\n",
       " Row(idunplug_station=84, dayofweek=7, idplug_station=129, count=2),\n",
       " Row(idunplug_station=57, dayofweek=4, idplug_station=57, count=3),\n",
       " Row(idunplug_station=38, dayofweek=5, idplug_station=129, count=3),\n",
       " Row(idunplug_station=45, dayofweek=1, idplug_station=57, count=3),\n",
       " Row(idunplug_station=133, dayofweek=7, idplug_station=135, count=3),\n",
       " Row(idunplug_station=1, dayofweek=5, idplug_station=43, count=3),\n",
       " Row(idunplug_station=160, dayofweek=2, idplug_station=163, count=3),\n",
       " Row(idunplug_station=27, dayofweek=3, idplug_station=135, count=3),\n",
       " Row(idunplug_station=135, dayofweek=3, idplug_station=135, count=3)]"
      ]
     },
     "execution_count": 19,
     "metadata": {},
     "output_type": "execute_result"
    }
   ],
   "source": [
    "estudio_por_dias_y_zonas.orderBy('count').tail(10)"
   ]
  },
  {
   "cell_type": "markdown",
   "id": "c07f41f6",
   "metadata": {},
   "source": [
    "Podemos ver como seguimos sin tener muchos datos, la verdad que el número máximo es 3, esto también es devido a que estamos contando lo siguiente:\n",
    "    \n",
    "**Cuántas veces se va desde una estación i a otra j el día x.**\n",
    "\n",
    "Teniendo en cuenta que hay muchas estaciones, las veces que estos datos coinciden son pocas, teniendo en cuenta la cantidad de datos al que tenemos acceso (10.000) no son tantos. Por tanto a lo mejor unir varias estaciones por zonas no es mala idea, para obtener mejores resultados. Además cuando hagamos las pruebas finales con datos de varios años tendremos mejores resultados."
   ]
  },
  {
   "cell_type": "markdown",
   "id": "1c022398",
   "metadata": {},
   "source": [
    "Por ejemplo, contemos cuántas estaciones tenemos en nuestros datos:"
   ]
  },
  {
   "cell_type": "code",
   "execution_count": 95,
   "id": "f8932386",
   "metadata": {},
   "outputs": [
    {
     "data": {
      "text/plain": [
       "157"
      ]
     },
     "execution_count": 95,
     "metadata": {},
     "output_type": "execute_result"
    }
   ],
   "source": [
    "df4.select('idunplug_station').distinct().count()"
   ]
  },
  {
   "cell_type": "markdown",
   "id": "0282816f",
   "metadata": {},
   "source": [
    "### Veamos qué podemos hacer con las estaciones. Parece que se nos proporciona un archivo .geo con las localizaiciones. Así que tocará cargarlo de alguna manera y añadirlo al dataframe con su localización."
   ]
  },
  {
   "cell_type": "code",
   "execution_count": 63,
   "id": "b47f2314",
   "metadata": {},
   "outputs": [
    {
     "name": "stdout",
     "output_type": "stream",
     "text": [
      "Defaulting to user installation because normal site-packages is not writeable\n",
      "Collecting xlrd\n",
      "  Downloading xlrd-2.0.1-py2.py3-none-any.whl (96 kB)\n",
      "\u001b[2K     \u001b[38;2;114;156;31m━━━━━━━━━━━━━━━━━━━━━━━━━━━━━━━━━━━━━━━━\u001b[0m \u001b[32m96.5/96.5 KB\u001b[0m \u001b[31m1.4 MB/s\u001b[0m eta \u001b[36m0:00:00\u001b[0m MB/s\u001b[0m eta \u001b[36m0:00:01\u001b[0m\n",
      "\u001b[?25hInstalling collected packages: xlrd\n",
      "Successfully installed xlrd-2.0.1\n"
     ]
    }
   ],
   "source": [
    "!pip install xlrd"
   ]
  },
  {
   "cell_type": "markdown",
   "id": "381f8d7b",
   "metadata": {},
   "source": [
    "Esto lo hacemos en otro jupyter, ya que se hacen muchas pruebas e instalaciones...\n",
    "\n",
    "Al final conseguimos los datos! Otro día sigo"
   ]
  },
  {
   "cell_type": "code",
   "execution_count": 64,
   "id": "7a82b0c6",
   "metadata": {},
   "outputs": [],
   "source": [
    "geo = pd.read_excel('datos/bases_bicimad.xls')"
   ]
  },
  {
   "cell_type": "code",
   "execution_count": 22,
   "id": "174fd54d",
   "metadata": {},
   "outputs": [
    {
     "data": {
      "text/html": [
       "<div>\n",
       "<style scoped>\n",
       "    .dataframe tbody tr th:only-of-type {\n",
       "        vertical-align: middle;\n",
       "    }\n",
       "\n",
       "    .dataframe tbody tr th {\n",
       "        vertical-align: top;\n",
       "    }\n",
       "\n",
       "    .dataframe thead th {\n",
       "        text-align: right;\n",
       "    }\n",
       "</style>\n",
       "<table border=\"1\" class=\"dataframe\">\n",
       "  <thead>\n",
       "    <tr style=\"text-align: right;\">\n",
       "      <th></th>\n",
       "      <th>Número</th>\n",
       "      <th>Gis_X</th>\n",
       "      <th>Gis_Y</th>\n",
       "      <th>Fecha de Alta</th>\n",
       "      <th>Distrito</th>\n",
       "      <th>Barrio</th>\n",
       "      <th>Calle</th>\n",
       "      <th>Nº Finca</th>\n",
       "      <th>Tipo de Reserva</th>\n",
       "      <th>Número de Plazas</th>\n",
       "      <th>Longitud</th>\n",
       "      <th>Latitud</th>\n",
       "      <th>Direccion</th>\n",
       "    </tr>\n",
       "  </thead>\n",
       "  <tbody>\n",
       "    <tr>\n",
       "      <th>0</th>\n",
       "      <td>001 a</td>\n",
       "      <td>440443.61</td>\n",
       "      <td>4474290.65</td>\n",
       "      <td>43803</td>\n",
       "      <td>01  CENTRO</td>\n",
       "      <td>01-06 SOL</td>\n",
       "      <td>ALCALA, CALLE, DE</td>\n",
       "      <td>2</td>\n",
       "      <td>BiciMAD</td>\n",
       "      <td>30</td>\n",
       "      <td>-3.701998</td>\n",
       "      <td>40.417111</td>\n",
       "      <td>ALCALA, CALLE, DE, 2</td>\n",
       "    </tr>\n",
       "    <tr>\n",
       "      <th>1</th>\n",
       "      <td>001 b</td>\n",
       "      <td>440480.56</td>\n",
       "      <td>4474301.74</td>\n",
       "      <td>43867</td>\n",
       "      <td>01  CENTRO</td>\n",
       "      <td>01-06 SOL</td>\n",
       "      <td>ALCALA, CALLE, DE</td>\n",
       "      <td>6</td>\n",
       "      <td>BiciMAD</td>\n",
       "      <td>30</td>\n",
       "      <td>-3.701564</td>\n",
       "      <td>40.417213</td>\n",
       "      <td>ALCALA, CALLE, DE, 6</td>\n",
       "    </tr>\n",
       "    <tr>\n",
       "      <th>2</th>\n",
       "      <td>2</td>\n",
       "      <td>440134.83</td>\n",
       "      <td>4474678.23</td>\n",
       "      <td>41813</td>\n",
       "      <td>01  CENTRO</td>\n",
       "      <td>01-05 UNIVERSIDAD</td>\n",
       "      <td>MIGUEL MOYA, CALLE, DE</td>\n",
       "      <td>1</td>\n",
       "      <td>BiciMAD</td>\n",
       "      <td>24</td>\n",
       "      <td>-3.705674</td>\n",
       "      <td>40.420580</td>\n",
       "      <td>MIGUEL MOYA, CALLE, DE, 1</td>\n",
       "    </tr>\n",
       "    <tr>\n",
       "      <th>3</th>\n",
       "      <td>3</td>\n",
       "      <td>440012.98</td>\n",
       "      <td>4475760.68</td>\n",
       "      <td>41813</td>\n",
       "      <td>07  CHAMBERÍ</td>\n",
       "      <td>07-02 ARAPILES</td>\n",
       "      <td>CONDE DEL VALLE DE SUCHIL, PLAZA, DEL</td>\n",
       "      <td>2</td>\n",
       "      <td>BiciMAD</td>\n",
       "      <td>18</td>\n",
       "      <td>-3.707212</td>\n",
       "      <td>40.430322</td>\n",
       "      <td>CONDE DEL VALLE DE SUCHIL, PLAZA, DEL, 2</td>\n",
       "    </tr>\n",
       "    <tr>\n",
       "      <th>4</th>\n",
       "      <td>4</td>\n",
       "      <td>440396.40</td>\n",
       "      <td>4475565.36</td>\n",
       "      <td>41813</td>\n",
       "      <td>01  CENTRO</td>\n",
       "      <td>01-05 UNIVERSIDAD</td>\n",
       "      <td>MANUELA MALASAÑA, CALLE, DE</td>\n",
       "      <td>3</td>\n",
       "      <td>BiciMAD</td>\n",
       "      <td>24</td>\n",
       "      <td>-3.702674</td>\n",
       "      <td>40.428590</td>\n",
       "      <td>MANUELA MALASAÑA, CALLE, DE, 3</td>\n",
       "    </tr>\n",
       "  </tbody>\n",
       "</table>\n",
       "</div>"
      ],
      "text/plain": [
       "  Número      Gis_X       Gis_Y  Fecha de Alta      Distrito   \n",
       "0  001 a  440443.61  4474290.65          43803    01  CENTRO  \\\n",
       "1  001 b  440480.56  4474301.74          43867    01  CENTRO   \n",
       "2      2  440134.83  4474678.23          41813    01  CENTRO   \n",
       "3      3  440012.98  4475760.68          41813  07  CHAMBERÍ   \n",
       "4      4  440396.40  4475565.36          41813    01  CENTRO   \n",
       "\n",
       "              Barrio                                  Calle Nº Finca   \n",
       "0          01-06 SOL                      ALCALA, CALLE, DE        2  \\\n",
       "1          01-06 SOL                      ALCALA, CALLE, DE        6   \n",
       "2  01-05 UNIVERSIDAD                 MIGUEL MOYA, CALLE, DE        1   \n",
       "3     07-02 ARAPILES  CONDE DEL VALLE DE SUCHIL, PLAZA, DEL        2   \n",
       "4  01-05 UNIVERSIDAD            MANUELA MALASAÑA, CALLE, DE        3   \n",
       "\n",
       "  Tipo de Reserva  Número de Plazas  Longitud    Latitud   \n",
       "0         BiciMAD                30 -3.701998  40.417111  \\\n",
       "1         BiciMAD                30 -3.701564  40.417213   \n",
       "2         BiciMAD                24 -3.705674  40.420580   \n",
       "3         BiciMAD                18 -3.707212  40.430322   \n",
       "4         BiciMAD                24 -3.702674  40.428590   \n",
       "\n",
       "                                  Direccion  \n",
       "0                      ALCALA, CALLE, DE, 2  \n",
       "1                      ALCALA, CALLE, DE, 6  \n",
       "2                 MIGUEL MOYA, CALLE, DE, 1  \n",
       "3  CONDE DEL VALLE DE SUCHIL, PLAZA, DEL, 2  \n",
       "4            MANUELA MALASAÑA, CALLE, DE, 3  "
      ]
     },
     "execution_count": 22,
     "metadata": {},
     "output_type": "execute_result"
    }
   ],
   "source": [
    "geo.head()"
   ]
  },
  {
   "cell_type": "code",
   "execution_count": 32,
   "id": "a54d36e8",
   "metadata": {},
   "outputs": [
    {
     "name": "stdout",
     "output_type": "stream",
     "text": [
      "Numero de estaciones distintas: 173\n",
      "Numero de barrios distintos: 60\n"
     ]
    }
   ],
   "source": [
    "print(\"Numero de estaciones distintas:\", df4.select('idunplug_station').distinct().count())\n",
    "print(\"Numero de barrios distintos:\", len(set(geo['Barrio'].to_list())))"
   ]
  },
  {
   "cell_type": "code",
   "execution_count": 39,
   "id": "8af5224e",
   "metadata": {},
   "outputs": [
    {
     "data": {
      "text/html": [
       "<div>\n",
       "<style scoped>\n",
       "    .dataframe tbody tr th:only-of-type {\n",
       "        vertical-align: middle;\n",
       "    }\n",
       "\n",
       "    .dataframe tbody tr th {\n",
       "        vertical-align: top;\n",
       "    }\n",
       "\n",
       "    .dataframe thead th {\n",
       "        text-align: right;\n",
       "    }\n",
       "</style>\n",
       "<table border=\"1\" class=\"dataframe\">\n",
       "  <thead>\n",
       "    <tr style=\"text-align: right;\">\n",
       "      <th></th>\n",
       "      <th>Número</th>\n",
       "      <th>Barrio</th>\n",
       "    </tr>\n",
       "  </thead>\n",
       "  <tbody>\n",
       "    <tr>\n",
       "      <th>0</th>\n",
       "      <td>001 a</td>\n",
       "      <td>01-06 SOL</td>\n",
       "    </tr>\n",
       "    <tr>\n",
       "      <th>1</th>\n",
       "      <td>001 b</td>\n",
       "      <td>01-06 SOL</td>\n",
       "    </tr>\n",
       "    <tr>\n",
       "      <th>2</th>\n",
       "      <td>2</td>\n",
       "      <td>01-05 UNIVERSIDAD</td>\n",
       "    </tr>\n",
       "    <tr>\n",
       "      <th>3</th>\n",
       "      <td>3</td>\n",
       "      <td>07-02 ARAPILES</td>\n",
       "    </tr>\n",
       "    <tr>\n",
       "      <th>4</th>\n",
       "      <td>4</td>\n",
       "      <td>01-05 UNIVERSIDAD</td>\n",
       "    </tr>\n",
       "    <tr>\n",
       "      <th>...</th>\n",
       "      <td>...</td>\n",
       "      <td>...</td>\n",
       "    </tr>\n",
       "    <tr>\n",
       "      <th>264</th>\n",
       "      <td>257</td>\n",
       "      <td>09-03 CIUDAD UNIVERSITARIA</td>\n",
       "    </tr>\n",
       "    <tr>\n",
       "      <th>265</th>\n",
       "      <td>258</td>\n",
       "      <td>09-03 CIUDAD UNIVERSITARIA</td>\n",
       "    </tr>\n",
       "    <tr>\n",
       "      <th>266</th>\n",
       "      <td>259</td>\n",
       "      <td>09-03 CIUDAD UNIVERSITARIA</td>\n",
       "    </tr>\n",
       "    <tr>\n",
       "      <th>267</th>\n",
       "      <td>260</td>\n",
       "      <td>09-03 CIUDAD UNIVERSITARIA</td>\n",
       "    </tr>\n",
       "    <tr>\n",
       "      <th>268</th>\n",
       "      <td>261</td>\n",
       "      <td>09-03 CIUDAD UNIVERSITARIA</td>\n",
       "    </tr>\n",
       "  </tbody>\n",
       "</table>\n",
       "<p>269 rows × 2 columns</p>\n",
       "</div>"
      ],
      "text/plain": [
       "    Número                      Barrio\n",
       "0    001 a                   01-06 SOL\n",
       "1    001 b                   01-06 SOL\n",
       "2        2           01-05 UNIVERSIDAD\n",
       "3        3              07-02 ARAPILES\n",
       "4        4           01-05 UNIVERSIDAD\n",
       "..     ...                         ...\n",
       "264    257  09-03 CIUDAD UNIVERSITARIA\n",
       "265    258  09-03 CIUDAD UNIVERSITARIA\n",
       "266    259  09-03 CIUDAD UNIVERSITARIA\n",
       "267    260  09-03 CIUDAD UNIVERSITARIA\n",
       "268    261  09-03 CIUDAD UNIVERSITARIA\n",
       "\n",
       "[269 rows x 2 columns]"
      ]
     },
     "execution_count": 39,
     "metadata": {},
     "output_type": "execute_result"
    }
   ],
   "source": [
    "geo[['Número','Barrio']]"
   ]
  },
  {
   "cell_type": "code",
   "execution_count": 65,
   "id": "da8139ee",
   "metadata": {},
   "outputs": [],
   "source": [
    "codes = geo.set_index(\"Número\")[\"Barrio\"].to_dict()"
   ]
  },
  {
   "cell_type": "code",
   "execution_count": 46,
   "id": "e0fdd4b2",
   "metadata": {},
   "outputs": [
    {
     "data": {
      "text/plain": [
       "dict_keys(['001 a', '001 b', 2, 3, 4, 5, 6, 7, 8, 9, 10, 11, 12, 13, 14, 15, 16, 17, 18, 19, 20, '020 ampliacion', 22, 23, 24, '025 a', '025 b', 26, 27, 28, 29, 30, 31, 32, 33, 34, 35, 36, 37, 38, 39, 40, 41, 42, 43, 44, 45, 46, 47, 48, 49, 50, 51, 52, 53, 54, 55, 56, 57, 58, 59, 60, 61, 62, 63, 65, 67, 68, 69, 70, 71, 72, 73, 74, 75, 76, 77, 78, 79, '080 a', '080 b', 81, 82, 83, 84, 85, 86, 87, 88, 89, 90, '090 ampliacion', 91, 92, 93, 94, 95, 96, 97, 98, 99, 100, 101, 102, 103, 104, 105, '106 a', '106 b', 107, 108, 109, 110, '111 a', '111 b', 112, 113, 114, 115, '116 a', '116 b', 117, 118, 119, 120, 121, 122, 123, 124, 125, 126, 127, 128, '128 ampliacion', 129, 130, 131, 132, 133, 134, 135, 136, 137, 138, 139, 140, '140 ampliación', 141, 142, 143, 144, 145, 146, 147, 148, 149, 150, 151, 152, 153, 154, 155, 156, 157, 158, 159, 160, 161, '161 ampliacion', 162, 163, 164, 165, 166, 167, 168, 169, 170, 171, 172, 173, 174, 175, 176, 177, 178, 179, 180, 181, 182, 183, 184, 185, 186, 187, 188, 189, 190, 191, 192, 193, 194, 195, 196, 197, 198, 199, 200, 201, 202, 203, 204, 205, 206, 207, 208, 209, 210, 211, 212, 213, 214, 215, 216, 217, 218, 219, 220, 221, 222, 223, 224, 225, 226, 227, 228, 229, 230, 231, 232, 233, 234, 235, 236, 237, 238, 239, 240, 241, 242, 243, 244, 245, 246, 247, 248, 249, 250, 251, 252, 253, 254, 255, 256, 257, 258, 259, 260, 261])"
      ]
     },
     "execution_count": 46,
     "metadata": {},
     "output_type": "execute_result"
    }
   ],
   "source": [
    "codes.keys()"
   ]
  },
  {
   "cell_type": "markdown",
   "id": "d522ead8",
   "metadata": {},
   "source": [
    "Observamos que los números de las estaciones vienen o bien como un entero o bien como una string la cual nos dice algún dato más como 'a' o 'b', o si es una ampliación.\n",
    "Así podemos distinguir unpar de casos y ya."
   ]
  },
  {
   "cell_type": "markdown",
   "id": "938f29b5",
   "metadata": {},
   "source": [
    "Vamos a intentar conseguir una columna en la tabla grande que nos diga de que barrio es. Para ello reiniciamos todo el preproceso de df4."
   ]
  },
  {
   "cell_type": "code",
   "execution_count": 14,
   "id": "b4da8e0a",
   "metadata": {},
   "outputs": [
    {
     "name": "stderr",
     "output_type": "stream",
     "text": [
      "\r",
      "[Stage 21:===========================================>              (3 + 1) / 4]\r",
      "\r",
      "                                                                                \r"
     ]
    }
   ],
   "source": [
    "df4 = spark.read.json(data_path)"
   ]
  },
  {
   "cell_type": "code",
   "execution_count": 15,
   "id": "a5c7f3ca",
   "metadata": {},
   "outputs": [
    {
     "name": "stdout",
     "output_type": "stream",
     "text": [
      "nº de columnas: 12\n",
      "nº de filas: 10000\n"
     ]
    }
   ],
   "source": [
    "print(\"nº de columnas:\", len(df4.columns))\n",
    "print(\"nº de filas:\", df4.count())"
   ]
  },
  {
   "cell_type": "code",
   "execution_count": 85,
   "id": "3e3f8441",
   "metadata": {},
   "outputs": [],
   "source": [
    "def get_barrio(e):\n",
    "    return codes[e]"
   ]
  },
  {
   "cell_type": "code",
   "execution_count": 58,
   "id": "3811e6a6",
   "metadata": {},
   "outputs": [
    {
     "ename": "TypeError",
     "evalue": "unhashable type: 'Column'",
     "output_type": "error",
     "traceback": [
      "\u001b[0;31m---------------------------------------------------------------------------\u001b[0m",
      "\u001b[0;31mTypeError\u001b[0m                                 Traceback (most recent call last)",
      "\u001b[0;32m/tmp/ipykernel_6954/3188707635.py\u001b[0m in \u001b[0;36m<cell line: 1>\u001b[0;34m()\u001b[0m\n\u001b[0;32m----> 1\u001b[0;31m \u001b[0mdf4\u001b[0m\u001b[0;34m.\u001b[0m\u001b[0mwithColumn\u001b[0m\u001b[0;34m(\u001b[0m\u001b[0mget_barrio\u001b[0m\u001b[0;34m(\u001b[0m\u001b[0mdf4\u001b[0m\u001b[0;34m.\u001b[0m\u001b[0midunplug_station\u001b[0m\u001b[0;34m)\u001b[0m\u001b[0;34m)\u001b[0m\u001b[0;34m\u001b[0m\u001b[0;34m\u001b[0m\u001b[0m\n\u001b[0m",
      "\u001b[0;32m/tmp/ipykernel_6954/3603474203.py\u001b[0m in \u001b[0;36mget_barrio\u001b[0;34m(e)\u001b[0m\n\u001b[1;32m      1\u001b[0m \u001b[0;32mdef\u001b[0m \u001b[0mget_barrio\u001b[0m\u001b[0;34m(\u001b[0m\u001b[0me\u001b[0m\u001b[0;34m)\u001b[0m\u001b[0;34m:\u001b[0m\u001b[0;34m\u001b[0m\u001b[0;34m\u001b[0m\u001b[0m\n\u001b[0;32m----> 2\u001b[0;31m     \u001b[0;32mreturn\u001b[0m \u001b[0mcodes\u001b[0m\u001b[0;34m[\u001b[0m\u001b[0me\u001b[0m\u001b[0;34m]\u001b[0m\u001b[0;34m\u001b[0m\u001b[0;34m\u001b[0m\u001b[0m\n\u001b[0m",
      "\u001b[0;31mTypeError\u001b[0m: unhashable type: 'Column'"
     ]
    }
   ],
   "source": [
    "df4.withColumn(get_barrio(df4.idunplug_station))"
   ]
  },
  {
   "cell_type": "markdown",
   "id": "2b11bcdc",
   "metadata": {},
   "source": [
    "Obviamente no ibamos a poder meter una función así tal cual a un dataframe para ello tenemos que primero pasarlo a un rdd y luego volve. \n",
    "\n",
    "Veamos con un dataframe pequeño de prueba:"
   ]
  },
  {
   "cell_type": "code",
   "execution_count": 17,
   "id": "e890da42",
   "metadata": {},
   "outputs": [],
   "source": [
    "df_rdd = df4.select([\"ageRange\", \"idunplug_station\", \"idplug_station\"]).limit(3)"
   ]
  },
  {
   "cell_type": "code",
   "execution_count": 18,
   "id": "1dc1c165",
   "metadata": {},
   "outputs": [],
   "source": [
    "rdd = df_rdd.rdd"
   ]
  },
  {
   "cell_type": "code",
   "execution_count": 41,
   "id": "fc413e0a",
   "metadata": {},
   "outputs": [
    {
     "data": {
      "text/plain": [
       "[Row(ageRange=4, idunplug_station=111, idplug_station=58),\n",
       " Row(ageRange=4, idunplug_station=40, idplug_station=90),\n",
       " Row(ageRange=4, idunplug_station=136, idplug_station=172)]"
      ]
     },
     "execution_count": 41,
     "metadata": {},
     "output_type": "execute_result"
    }
   ],
   "source": [
    "rdd.collect()"
   ]
  },
  {
   "cell_type": "code",
   "execution_count": 45,
   "id": "555b4a27",
   "metadata": {},
   "outputs": [
    {
     "data": {
      "text/plain": [
       "pyspark.sql.types.Row"
      ]
     },
     "execution_count": 45,
     "metadata": {},
     "output_type": "execute_result"
    }
   ],
   "source": [
    "type(rdd.collect()[0])"
   ]
  },
  {
   "cell_type": "code",
   "execution_count": 47,
   "id": "9d608fcb",
   "metadata": {},
   "outputs": [],
   "source": [
    "row = rdd.collect()[0]"
   ]
  },
  {
   "cell_type": "code",
   "execution_count": 52,
   "id": "deb2f120",
   "metadata": {},
   "outputs": [
    {
     "data": {
      "text/plain": [
       "4"
      ]
     },
     "execution_count": 52,
     "metadata": {},
     "output_type": "execute_result"
    }
   ],
   "source": [
    "row.ageRange"
   ]
  },
  {
   "cell_type": "markdown",
   "id": "b791fc64",
   "metadata": {},
   "source": [
    "Comentario: Parece que para mantener el rdd con los nombres tendremos que usar el tipo Row (anterior) para así después poder pasarlo al DataFame cómodamente. Documentación en: https://hyukjin-spark.readthedocs.io/en/latest/reference/api/pyspark.sql.types.Row.html"
   ]
  },
  {
   "cell_type": "code",
   "execution_count": 46,
   "id": "5e4af2ea",
   "metadata": {},
   "outputs": [],
   "source": [
    "from pyspark.sql.types import Row"
   ]
  },
  {
   "cell_type": "markdown",
   "id": "25a6d8c9",
   "metadata": {},
   "source": [
    "Pequeña pueba para añadir columnas:"
   ]
  },
  {
   "cell_type": "code",
   "execution_count": 57,
   "id": "51f1031a",
   "metadata": {},
   "outputs": [],
   "source": [
    "create_row = lambda x, new : Row(ageRange=x[0], idunplug_station=x[1], idplug_station=x[2], id_new=new)"
   ]
  },
  {
   "cell_type": "code",
   "execution_count": 58,
   "id": "40be58b3",
   "metadata": {},
   "outputs": [],
   "source": [
    "rdd2 = rdd.map(lambda x : create_row(x, 999))"
   ]
  },
  {
   "cell_type": "code",
   "execution_count": 59,
   "id": "6ad01287",
   "metadata": {},
   "outputs": [
    {
     "data": {
      "text/plain": [
       "[Row(ageRange=4, idunplug_station=111, idplug_station=58, id_new=999),\n",
       " Row(ageRange=4, idunplug_station=40, idplug_station=90, id_new=999),\n",
       " Row(ageRange=4, idunplug_station=136, idplug_station=172, id_new=999)]"
      ]
     },
     "execution_count": 59,
     "metadata": {},
     "output_type": "execute_result"
    }
   ],
   "source": [
    "rdd2.collect()"
   ]
  },
  {
   "cell_type": "markdown",
   "id": "40271448",
   "metadata": {},
   "source": [
    "Perfe! Ahora ya podemos aplicar lo función transformación"
   ]
  },
  {
   "cell_type": "code",
   "execution_count": 104,
   "id": "6385749d",
   "metadata": {},
   "outputs": [],
   "source": [
    "# cambiamos un poco la función get barrio ya que se ha podido modificar a lo largo del tiempo, \n",
    "# si nos da un error seguramente es que se halla añadido un a nueva base en la zona, por lo que \n",
    "# la llamaremos como \"{numero} a\"\n",
    "def get_barrio(e):\n",
    "    try:\n",
    "        c = codes[e]\n",
    "    except:\n",
    "        new_e = str(e) + \" a\"\n",
    "        c = codes[new_e]\n",
    "    finally:\n",
    "        return c"
   ]
  },
  {
   "cell_type": "code",
   "execution_count": 110,
   "id": "17ecfcb1",
   "metadata": {},
   "outputs": [],
   "source": [
    "def map_barrio(x):\n",
    "    plug = get_barrio(x.idunplug_station)\n",
    "    unplug = get_barrio(x.idunplug_station)\n",
    "    return Row(ageRange=x.ageRange, idunplug_barrio=unplug, idplug_barrio=plug)"
   ]
  },
  {
   "cell_type": "code",
   "execution_count": 102,
   "id": "46abee1d",
   "metadata": {},
   "outputs": [],
   "source": [
    "rdd2 = rdd.map(map_barrio)"
   ]
  },
  {
   "cell_type": "code",
   "execution_count": 103,
   "id": "ea3bd1b4",
   "metadata": {},
   "outputs": [
    {
     "data": {
      "text/plain": [
       "[Row(ageRange=4, idunplug_barrio='07-01 GAZTAMBIDE', idplug_barrio='07-01 GAZTAMBIDE'),\n",
       " Row(ageRange=4, idunplug_barrio='01-02 EMBAJADORES', idplug_barrio='01-02 EMBAJADORES'),\n",
       " Row(ageRange=4, idunplug_barrio='05-01 EL VISO', idplug_barrio='05-01 EL VISO')]"
      ]
     },
     "execution_count": 103,
     "metadata": {},
     "output_type": "execute_result"
    }
   ],
   "source": [
    "rdd2.collect()"
   ]
  },
  {
   "cell_type": "code",
   "execution_count": 105,
   "id": "5c8cfd5d",
   "metadata": {},
   "outputs": [],
   "source": [
    "df_new = rdd2.toDF()"
   ]
  },
  {
   "cell_type": "code",
   "execution_count": 106,
   "id": "38d550e5",
   "metadata": {},
   "outputs": [
    {
     "data": {
      "text/plain": [
       "DataFrame[ageRange: bigint, idunplug_barrio: string, idplug_barrio: string]"
      ]
     },
     "execution_count": 106,
     "metadata": {},
     "output_type": "execute_result"
    }
   ],
   "source": [
    "df_new"
   ]
  },
  {
   "cell_type": "markdown",
   "id": "e46c1922",
   "metadata": {},
   "source": [
    "Genial! Ya podemos cambiar el nombre de las estaciones por el barrio. Se podría pensar en mapear el nombre de los barrios números enteros, pero tampoco es que cambie mucho. De todas formas dicho cambio es sencillo. Por ahora lo voy a dejar con los nombre para que sea más visible."
   ]
  },
  {
   "cell_type": "code",
   "execution_count": null,
   "id": "38bc24af",
   "metadata": {},
   "outputs": [],
   "source": []
  }
 ],
 "metadata": {
  "kernelspec": {
   "display_name": "Python 3 (ipykernel)",
   "language": "python",
   "name": "python3"
  },
  "language_info": {
   "codemirror_mode": {
    "name": "ipython",
    "version": 3
   },
   "file_extension": ".py",
   "mimetype": "text/x-python",
   "name": "python",
   "nbconvert_exporter": "python",
   "pygments_lexer": "ipython3",
   "version": "3.10.6"
  }
 },
 "nbformat": 4,
 "nbformat_minor": 5
}
